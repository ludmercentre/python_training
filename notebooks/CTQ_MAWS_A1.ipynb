{
 "cells": [
  {
   "cell_type": "code",
   "execution_count": 1,
   "metadata": {
    "ExecuteTime": {
     "end_time": "2019-10-08T17:49:27.968944Z",
     "start_time": "2019-10-08T17:49:27.553377Z"
    }
   },
   "outputs": [],
   "source": [
    "import numpy as np\n",
    "import pandas as pd"
   ]
  },
  {
   "cell_type": "markdown",
   "metadata": {},
   "source": [
    "## Data import:"
   ]
  },
  {
   "cell_type": "code",
   "execution_count": 2,
   "metadata": {
    "ExecuteTime": {
     "end_time": "2019-10-08T17:49:27.985744Z",
     "start_time": "2019-10-08T17:49:27.970573Z"
    }
   },
   "outputs": [],
   "source": [
    "ctq_maws_a1_df = pd.read_csv(\"CTQ_20191008.csv\")\n",
    "ctq_maws_a1_df = ctq_maws_a1_df[['redcap_id'] + [col for col in ctq_maws_a1_df if col.startswith('ctq')]]"
   ]
  },
  {
   "cell_type": "code",
   "execution_count": 3,
   "metadata": {
    "ExecuteTime": {
     "end_time": "2019-10-08T17:49:28.013387Z",
     "start_time": "2019-10-08T17:49:27.988356Z"
    }
   },
   "outputs": [
    {
     "data": {
      "text/html": [
       "<div>\n",
       "<style scoped>\n",
       "    .dataframe tbody tr th:only-of-type {\n",
       "        vertical-align: middle;\n",
       "    }\n",
       "\n",
       "    .dataframe tbody tr th {\n",
       "        vertical-align: top;\n",
       "    }\n",
       "\n",
       "    .dataframe thead th {\n",
       "        text-align: right;\n",
       "    }\n",
       "</style>\n",
       "<table border=\"1\" class=\"dataframe\">\n",
       "  <thead>\n",
       "    <tr style=\"text-align: right;\">\n",
       "      <th></th>\n",
       "      <th>redcap_id</th>\n",
       "      <th>ctq_your_childhood_timestamp</th>\n",
       "      <th>ctqq_1</th>\n",
       "      <th>ctqq_2</th>\n",
       "      <th>ctqq_3</th>\n",
       "      <th>ctqq_4</th>\n",
       "      <th>ctqq_5</th>\n",
       "      <th>ctqq_6</th>\n",
       "      <th>ctqq_7</th>\n",
       "      <th>ctqq_8</th>\n",
       "      <th>...</th>\n",
       "      <th>ctqq_20</th>\n",
       "      <th>ctqq_21</th>\n",
       "      <th>ctqq_22</th>\n",
       "      <th>ctqq_23</th>\n",
       "      <th>ctqq_24</th>\n",
       "      <th>ctqq_25</th>\n",
       "      <th>ctqq_26</th>\n",
       "      <th>ctqq_27</th>\n",
       "      <th>ctqq_28</th>\n",
       "      <th>ctq_your_childhood_complete</th>\n",
       "    </tr>\n",
       "  </thead>\n",
       "  <tbody>\n",
       "    <tr>\n",
       "      <td>0</td>\n",
       "      <td>E1</td>\n",
       "      <td>NaN</td>\n",
       "      <td>1.0</td>\n",
       "      <td>5.0</td>\n",
       "      <td>3.0</td>\n",
       "      <td>1.0</td>\n",
       "      <td>5.0</td>\n",
       "      <td>1.0</td>\n",
       "      <td>5.0</td>\n",
       "      <td>1.0</td>\n",
       "      <td>...</td>\n",
       "      <td>1.0</td>\n",
       "      <td>1.0</td>\n",
       "      <td>5.0</td>\n",
       "      <td>1.0</td>\n",
       "      <td>1.0</td>\n",
       "      <td>1.0</td>\n",
       "      <td>5.0</td>\n",
       "      <td>1.0</td>\n",
       "      <td>5.0</td>\n",
       "      <td>2</td>\n",
       "    </tr>\n",
       "    <tr>\n",
       "      <td>1</td>\n",
       "      <td>E2</td>\n",
       "      <td>13-08-19 10:36</td>\n",
       "      <td>4.0</td>\n",
       "      <td>3.0</td>\n",
       "      <td>5.0</td>\n",
       "      <td>3.0</td>\n",
       "      <td>1.0</td>\n",
       "      <td>1.0</td>\n",
       "      <td>2.0</td>\n",
       "      <td>5.0</td>\n",
       "      <td>...</td>\n",
       "      <td>1.0</td>\n",
       "      <td>1.0</td>\n",
       "      <td>2.0</td>\n",
       "      <td>2.0</td>\n",
       "      <td>1.0</td>\n",
       "      <td>4.0</td>\n",
       "      <td>5.0</td>\n",
       "      <td>1.0</td>\n",
       "      <td>1.0</td>\n",
       "      <td>2</td>\n",
       "    </tr>\n",
       "  </tbody>\n",
       "</table>\n",
       "<p>2 rows × 31 columns</p>\n",
       "</div>"
      ],
      "text/plain": [
       "  redcap_id ctq_your_childhood_timestamp  ctqq_1  ctqq_2  ctqq_3  ctqq_4  \\\n",
       "0        E1                          NaN     1.0     5.0     3.0     1.0   \n",
       "1        E2               13-08-19 10:36     4.0     3.0     5.0     3.0   \n",
       "\n",
       "   ctqq_5  ctqq_6  ctqq_7  ctqq_8  ...  ctqq_20  ctqq_21  ctqq_22  ctqq_23  \\\n",
       "0     5.0     1.0     5.0     1.0  ...      1.0      1.0      5.0      1.0   \n",
       "1     1.0     1.0     2.0     5.0  ...      1.0      1.0      2.0      2.0   \n",
       "\n",
       "   ctqq_24  ctqq_25  ctqq_26  ctqq_27  ctqq_28  ctq_your_childhood_complete  \n",
       "0      1.0      1.0      5.0      1.0      5.0                            2  \n",
       "1      1.0      4.0      5.0      1.0      1.0                            2  \n",
       "\n",
       "[2 rows x 31 columns]"
      ]
     },
     "execution_count": 3,
     "metadata": {},
     "output_type": "execute_result"
    }
   ],
   "source": [
    "ctq_maws_a1_df.head(2)"
   ]
  },
  {
   "cell_type": "code",
   "execution_count": 4,
   "metadata": {
    "ExecuteTime": {
     "end_time": "2019-10-08T17:49:28.023755Z",
     "start_time": "2019-10-08T17:49:28.014939Z"
    }
   },
   "outputs": [
    {
     "data": {
      "text/plain": [
       "(84, 31)"
      ]
     },
     "execution_count": 4,
     "metadata": {},
     "output_type": "execute_result"
    }
   ],
   "source": [
    "ctq_maws_a1_df.shape"
   ]
  },
  {
   "cell_type": "markdown",
   "metadata": {},
   "source": [
    "### Set index to redcap_id:"
   ]
  },
  {
   "cell_type": "code",
   "execution_count": 5,
   "metadata": {
    "ExecuteTime": {
     "end_time": "2019-10-08T17:49:28.032985Z",
     "start_time": "2019-10-08T17:49:28.026215Z"
    }
   },
   "outputs": [],
   "source": [
    "ctq_maws_a1_df = ctq_maws_a1_df.set_index('redcap_id')"
   ]
  },
  {
   "cell_type": "markdown",
   "metadata": {},
   "source": [
    "## Check and remove duplicated redcap_ids:"
   ]
  },
  {
   "cell_type": "code",
   "execution_count": 6,
   "metadata": {
    "ExecuteTime": {
     "end_time": "2019-10-08T17:49:28.050258Z",
     "start_time": "2019-10-08T17:49:28.034811Z"
    }
   },
   "outputs": [
    {
     "data": {
      "text/html": [
       "<div>\n",
       "<style scoped>\n",
       "    .dataframe tbody tr th:only-of-type {\n",
       "        vertical-align: middle;\n",
       "    }\n",
       "\n",
       "    .dataframe tbody tr th {\n",
       "        vertical-align: top;\n",
       "    }\n",
       "\n",
       "    .dataframe thead th {\n",
       "        text-align: right;\n",
       "    }\n",
       "</style>\n",
       "<table border=\"1\" class=\"dataframe\">\n",
       "  <thead>\n",
       "    <tr style=\"text-align: right;\">\n",
       "      <th></th>\n",
       "      <th>ctq_your_childhood_timestamp</th>\n",
       "      <th>ctqq_1</th>\n",
       "      <th>ctqq_2</th>\n",
       "      <th>ctqq_3</th>\n",
       "      <th>ctqq_4</th>\n",
       "      <th>ctqq_5</th>\n",
       "      <th>ctqq_6</th>\n",
       "      <th>ctqq_7</th>\n",
       "      <th>ctqq_8</th>\n",
       "      <th>ctqq_9</th>\n",
       "      <th>...</th>\n",
       "      <th>ctqq_20</th>\n",
       "      <th>ctqq_21</th>\n",
       "      <th>ctqq_22</th>\n",
       "      <th>ctqq_23</th>\n",
       "      <th>ctqq_24</th>\n",
       "      <th>ctqq_25</th>\n",
       "      <th>ctqq_26</th>\n",
       "      <th>ctqq_27</th>\n",
       "      <th>ctqq_28</th>\n",
       "      <th>ctq_your_childhood_complete</th>\n",
       "    </tr>\n",
       "    <tr>\n",
       "      <th>redcap_id</th>\n",
       "      <th></th>\n",
       "      <th></th>\n",
       "      <th></th>\n",
       "      <th></th>\n",
       "      <th></th>\n",
       "      <th></th>\n",
       "      <th></th>\n",
       "      <th></th>\n",
       "      <th></th>\n",
       "      <th></th>\n",
       "      <th></th>\n",
       "      <th></th>\n",
       "      <th></th>\n",
       "      <th></th>\n",
       "      <th></th>\n",
       "      <th></th>\n",
       "      <th></th>\n",
       "      <th></th>\n",
       "      <th></th>\n",
       "      <th></th>\n",
       "      <th></th>\n",
       "    </tr>\n",
       "  </thead>\n",
       "  <tbody>\n",
       "  </tbody>\n",
       "</table>\n",
       "<p>0 rows × 30 columns</p>\n",
       "</div>"
      ],
      "text/plain": [
       "Empty DataFrame\n",
       "Columns: [ctq_your_childhood_timestamp, ctqq_1, ctqq_2, ctqq_3, ctqq_4, ctqq_5, ctqq_6, ctqq_7, ctqq_8, ctqq_9, ctqq_10, ctqq_11, ctqq_12, ctqq_13, ctqq_14, ctqq_15, ctqq_16, ctqq_17, ctqq_18, ctqq_19, ctqq_20, ctqq_21, ctqq_22, ctqq_23, ctqq_24, ctqq_25, ctqq_26, ctqq_27, ctqq_28, ctq_your_childhood_complete]\n",
       "Index: []\n",
       "\n",
       "[0 rows x 30 columns]"
      ]
     },
     "execution_count": 6,
     "metadata": {},
     "output_type": "execute_result"
    }
   ],
   "source": [
    "ctq_maws_a1_df[ctq_maws_a1_df.index.duplicated()]"
   ]
  },
  {
   "cell_type": "code",
   "execution_count": 7,
   "metadata": {
    "ExecuteTime": {
     "end_time": "2019-10-08T17:49:28.065242Z",
     "start_time": "2019-10-08T17:49:28.053719Z"
    }
   },
   "outputs": [],
   "source": [
    "ctq_maws_a1_df = ctq_maws_a1_df[~ctq_maws_a1_df.index.duplicated(keep ='first')]"
   ]
  },
  {
   "cell_type": "markdown",
   "metadata": {},
   "source": [
    "## Subsetting data to questionnaire answers only:"
   ]
  },
  {
   "cell_type": "code",
   "execution_count": 8,
   "metadata": {
    "ExecuteTime": {
     "end_time": "2019-10-08T17:49:28.073666Z",
     "start_time": "2019-10-08T17:49:28.069944Z"
    }
   },
   "outputs": [],
   "source": [
    "ctq_maws_a1_subset_df = ctq_maws_a1_df.iloc[:, 1:len(ctq_maws_a1_df.columns)-1]"
   ]
  },
  {
   "cell_type": "code",
   "execution_count": 9,
   "metadata": {
    "ExecuteTime": {
     "end_time": "2019-10-08T17:49:28.118495Z",
     "start_time": "2019-10-08T17:49:28.076545Z"
    }
   },
   "outputs": [
    {
     "data": {
      "text/html": [
       "<div>\n",
       "<style scoped>\n",
       "    .dataframe tbody tr th:only-of-type {\n",
       "        vertical-align: middle;\n",
       "    }\n",
       "\n",
       "    .dataframe tbody tr th {\n",
       "        vertical-align: top;\n",
       "    }\n",
       "\n",
       "    .dataframe thead th {\n",
       "        text-align: right;\n",
       "    }\n",
       "</style>\n",
       "<table border=\"1\" class=\"dataframe\">\n",
       "  <thead>\n",
       "    <tr style=\"text-align: right;\">\n",
       "      <th></th>\n",
       "      <th>ctqq_1</th>\n",
       "      <th>ctqq_2</th>\n",
       "      <th>ctqq_3</th>\n",
       "      <th>ctqq_4</th>\n",
       "      <th>ctqq_5</th>\n",
       "      <th>ctqq_6</th>\n",
       "      <th>ctqq_7</th>\n",
       "      <th>ctqq_8</th>\n",
       "      <th>ctqq_9</th>\n",
       "      <th>ctqq_10</th>\n",
       "      <th>...</th>\n",
       "      <th>ctqq_19</th>\n",
       "      <th>ctqq_20</th>\n",
       "      <th>ctqq_21</th>\n",
       "      <th>ctqq_22</th>\n",
       "      <th>ctqq_23</th>\n",
       "      <th>ctqq_24</th>\n",
       "      <th>ctqq_25</th>\n",
       "      <th>ctqq_26</th>\n",
       "      <th>ctqq_27</th>\n",
       "      <th>ctqq_28</th>\n",
       "    </tr>\n",
       "    <tr>\n",
       "      <th>redcap_id</th>\n",
       "      <th></th>\n",
       "      <th></th>\n",
       "      <th></th>\n",
       "      <th></th>\n",
       "      <th></th>\n",
       "      <th></th>\n",
       "      <th></th>\n",
       "      <th></th>\n",
       "      <th></th>\n",
       "      <th></th>\n",
       "      <th></th>\n",
       "      <th></th>\n",
       "      <th></th>\n",
       "      <th></th>\n",
       "      <th></th>\n",
       "      <th></th>\n",
       "      <th></th>\n",
       "      <th></th>\n",
       "      <th></th>\n",
       "      <th></th>\n",
       "      <th></th>\n",
       "    </tr>\n",
       "  </thead>\n",
       "  <tbody>\n",
       "    <tr>\n",
       "      <td>E1</td>\n",
       "      <td>1.0</td>\n",
       "      <td>5.0</td>\n",
       "      <td>3.0</td>\n",
       "      <td>1.0</td>\n",
       "      <td>5.0</td>\n",
       "      <td>1.0</td>\n",
       "      <td>5.0</td>\n",
       "      <td>1.0</td>\n",
       "      <td>1.0</td>\n",
       "      <td>5.0</td>\n",
       "      <td>...</td>\n",
       "      <td>5.0</td>\n",
       "      <td>1.0</td>\n",
       "      <td>1.0</td>\n",
       "      <td>5.0</td>\n",
       "      <td>1.0</td>\n",
       "      <td>1.0</td>\n",
       "      <td>1.0</td>\n",
       "      <td>5.0</td>\n",
       "      <td>1.0</td>\n",
       "      <td>5.0</td>\n",
       "    </tr>\n",
       "    <tr>\n",
       "      <td>E2</td>\n",
       "      <td>4.0</td>\n",
       "      <td>3.0</td>\n",
       "      <td>5.0</td>\n",
       "      <td>3.0</td>\n",
       "      <td>1.0</td>\n",
       "      <td>1.0</td>\n",
       "      <td>2.0</td>\n",
       "      <td>5.0</td>\n",
       "      <td>5.0</td>\n",
       "      <td>1.0</td>\n",
       "      <td>...</td>\n",
       "      <td>1.0</td>\n",
       "      <td>1.0</td>\n",
       "      <td>1.0</td>\n",
       "      <td>2.0</td>\n",
       "      <td>2.0</td>\n",
       "      <td>1.0</td>\n",
       "      <td>4.0</td>\n",
       "      <td>5.0</td>\n",
       "      <td>1.0</td>\n",
       "      <td>1.0</td>\n",
       "    </tr>\n",
       "  </tbody>\n",
       "</table>\n",
       "<p>2 rows × 28 columns</p>\n",
       "</div>"
      ],
      "text/plain": [
       "           ctqq_1  ctqq_2  ctqq_3  ctqq_4  ctqq_5  ctqq_6  ctqq_7  ctqq_8  \\\n",
       "redcap_id                                                                   \n",
       "E1            1.0     5.0     3.0     1.0     5.0     1.0     5.0     1.0   \n",
       "E2            4.0     3.0     5.0     3.0     1.0     1.0     2.0     5.0   \n",
       "\n",
       "           ctqq_9  ctqq_10  ...  ctqq_19  ctqq_20  ctqq_21  ctqq_22  ctqq_23  \\\n",
       "redcap_id                   ...                                                \n",
       "E1            1.0      5.0  ...      5.0      1.0      1.0      5.0      1.0   \n",
       "E2            5.0      1.0  ...      1.0      1.0      1.0      2.0      2.0   \n",
       "\n",
       "           ctqq_24  ctqq_25  ctqq_26  ctqq_27  ctqq_28  \n",
       "redcap_id                                               \n",
       "E1             1.0      1.0      5.0      1.0      5.0  \n",
       "E2             1.0      4.0      5.0      1.0      1.0  \n",
       "\n",
       "[2 rows x 28 columns]"
      ]
     },
     "execution_count": 9,
     "metadata": {},
     "output_type": "execute_result"
    }
   ],
   "source": [
    "ctq_maws_a1_subset_df.head(2)"
   ]
  },
  {
   "cell_type": "code",
   "execution_count": 10,
   "metadata": {
    "ExecuteTime": {
     "end_time": "2019-10-08T17:49:28.124583Z",
     "start_time": "2019-10-08T17:49:28.120169Z"
    }
   },
   "outputs": [
    {
     "data": {
      "text/plain": [
       "(84, 28)"
      ]
     },
     "execution_count": 10,
     "metadata": {},
     "output_type": "execute_result"
    }
   ],
   "source": [
    "ctq_maws_a1_subset_df.shape"
   ]
  },
  {
   "cell_type": "markdown",
   "metadata": {},
   "source": [
    "## Replace 99's (no answer) with NaNs:"
   ]
  },
  {
   "cell_type": "code",
   "execution_count": 11,
   "metadata": {
    "ExecuteTime": {
     "end_time": "2019-10-08T17:49:28.145176Z",
     "start_time": "2019-10-08T17:49:28.126099Z"
    }
   },
   "outputs": [],
   "source": [
    "ctq_maws_a1_subset_df = ctq_maws_a1_subset_df.replace(99, np.NaN)"
   ]
  },
  {
   "cell_type": "markdown",
   "metadata": {},
   "source": [
    "## Check if any patient has not filled the questionnaire and remove:"
   ]
  },
  {
   "cell_type": "code",
   "execution_count": 12,
   "metadata": {
    "ExecuteTime": {
     "end_time": "2019-10-08T17:49:28.157355Z",
     "start_time": "2019-10-08T17:49:28.146738Z"
    }
   },
   "outputs": [
    {
     "data": {
      "text/plain": [
       "['E7', 'E29', 'E35', 'F12', 'F13', 'F18', 'F27']"
      ]
     },
     "execution_count": 12,
     "metadata": {},
     "output_type": "execute_result"
    }
   ],
   "source": [
    "ctq_maws_empty_l = ctq_maws_a1_subset_df[ctq_maws_a1_subset_df.isnull().all(1)].index.tolist()\n",
    "ctq_maws_empty_l"
   ]
  },
  {
   "cell_type": "code",
   "execution_count": 13,
   "metadata": {
    "ExecuteTime": {
     "end_time": "2019-10-08T17:49:28.166128Z",
     "start_time": "2019-10-08T17:49:28.161604Z"
    }
   },
   "outputs": [],
   "source": [
    "ctq_maws_a1_subset_df = ctq_maws_a1_subset_df.drop(ctq_maws_empty_l)"
   ]
  },
  {
   "cell_type": "markdown",
   "metadata": {},
   "source": [
    "## Check if all values are between 1 and 5 and return redcap_ids values that are not:"
   ]
  },
  {
   "cell_type": "code",
   "execution_count": 14,
   "metadata": {
    "ExecuteTime": {
     "end_time": "2019-10-08T17:49:28.184275Z",
     "start_time": "2019-10-08T17:49:28.167683Z"
    }
   },
   "outputs": [
    {
     "data": {
      "text/plain": [
       "[1.0, 2.0, 3.0, 4.0, 5.0, 6.0]"
      ]
     },
     "execution_count": 14,
     "metadata": {},
     "output_type": "execute_result"
    }
   ],
   "source": [
    "[x for x in np.unique(ctq_maws_a1_subset_df) if not np.isnan(x)]"
   ]
  },
  {
   "cell_type": "code",
   "execution_count": 15,
   "metadata": {
    "ExecuteTime": {
     "end_time": "2019-10-08T17:49:28.188800Z",
     "start_time": "2019-10-08T17:49:28.186841Z"
    }
   },
   "outputs": [],
   "source": [
    "# out_of_bounds_bool_s = ctw_maws_a1_subset_df[~((ctw_maws_a1_subset_df >= 1) & (ctw_maws_a1_subset_df <= 5))].T.any()\n",
    "# out_of_bounds_bool_s[out_of_bounds_bool_s]"
   ]
  },
  {
   "cell_type": "markdown",
   "metadata": {},
   "source": [
    "## Get Total Subscales Scores per Patient DataFrame and save to file:"
   ]
  },
  {
   "cell_type": "code",
   "execution_count": 16,
   "metadata": {
    "ExecuteTime": {
     "end_time": "2019-10-08T17:49:28.215715Z",
     "start_time": "2019-10-08T17:49:28.190151Z"
    }
   },
   "outputs": [],
   "source": [
    "# Name subscales and assign respective question ids:\n",
    "subscales_d = {\"emotional_abuse\": [3,8,14,18,25], \"physical_abuse\": [9,11,12,15,17],\n",
    "            \"sexual_abuse\": [20,21,23,24,27], \"emotional_neglect\": [5,7,13,19,28],\n",
    "            \"physical_neglect\": [1,2,4,6,26], \"minimization_denial\": [10,16,22]}\n",
    "\n",
    "# Add ctqq text:\n",
    "for key, value in subscales_d.items():\n",
    "    subscales_d[key] = [\"ctqq_\" + str(i) for i in value]"
   ]
  },
  {
   "cell_type": "markdown",
   "metadata": {},
   "source": [
    "### Get and reverse reverse coded questions:"
   ]
  },
  {
   "cell_type": "code",
   "execution_count": 17,
   "metadata": {
    "ExecuteTime": {
     "end_time": "2019-10-08T17:49:28.223378Z",
     "start_time": "2019-10-08T17:49:28.219769Z"
    }
   },
   "outputs": [],
   "source": [
    "def reverse_score(x):\n",
    "    \"\"\"\n",
    "    Funciton to reverse-code scores using indexes from list below:\n",
    "    \"\"\"\n",
    "    score_values_l = [1,2,3,4,5]\n",
    "    \n",
    "    if not np.isnan(x):\n",
    "    \n",
    "        try:\n",
    "            return score_values_l[-int(x)]\n",
    "        except IndexError:\n",
    "            print(x)"
   ]
  },
  {
   "cell_type": "code",
   "execution_count": 18,
   "metadata": {
    "ExecuteTime": {
     "end_time": "2019-10-08T17:49:28.245167Z",
     "start_time": "2019-10-08T17:49:28.224767Z"
    }
   },
   "outputs": [],
   "source": [
    "reverse_coded_questions_l = [5,7,13,19,28,2,26]\n",
    "reverse_l = [\"ctqq_\" + str(i) for i in reverse_coded_questions_l]"
   ]
  },
  {
   "cell_type": "code",
   "execution_count": 19,
   "metadata": {
    "ExecuteTime": {
     "end_time": "2019-10-08T17:49:28.259110Z",
     "start_time": "2019-10-08T17:49:28.247376Z"
    }
   },
   "outputs": [
    {
     "name": "stdout",
     "output_type": "stream",
     "text": [
      "6.0\n"
     ]
    }
   ],
   "source": [
    "ctq_maws_a1_subset_df[reverse_l] = ctq_maws_a1_subset_df[reverse_l].copy().applymap(reverse_score)"
   ]
  },
  {
   "cell_type": "code",
   "execution_count": 20,
   "metadata": {
    "ExecuteTime": {
     "end_time": "2019-10-08T17:49:28.375964Z",
     "start_time": "2019-10-08T17:49:28.265638Z"
    }
   },
   "outputs": [],
   "source": [
    "# Total scores are computed in new DataFrame here by taking:\n",
    "# ( sum of scores in subscale / ( amount of questions in subscale - unanswered questions(NaN) ) )\n",
    "\n",
    "total_scores_df = pd.DataFrame(pd.DataFrame(index=ctq_maws_a1_subset_df.index))\n",
    "\n",
    "for key in subscales_d.keys():\n",
    "    total_scores_df[key+\"_prorated\"] = ctq_maws_a1_subset_df[subscales_d[key]].sum(axis=1)/(len(ctq_maws_a1_subset_df[subscales_d[key]].columns)-ctq_maws_a1_subset_df[subscales_d[key]].isnull().sum(axis=1))\n",
    "    total_scores_df[key+\"_sum\"] = ctq_maws_a1_subset_df[subscales_d[key]].sum(axis=1)\n",
    "    total_scores_df[key+\"_contains_nan\"] = ctq_maws_a1_subset_df[subscales_d[key]].isnull().any(axis=1)\n",
    "    total_scores_df[key+\"_nan_counts\"] = ctq_maws_a1_subset_df[subscales_d[key]].isnull().sum(axis=1)\n",
    "    \n",
    "total_scores_df[\"contains_nan\"] = ctq_maws_a1_subset_df.isnull().any(axis=1)"
   ]
  },
  {
   "cell_type": "code",
   "execution_count": 22,
   "metadata": {
    "ExecuteTime": {
     "end_time": "2019-10-08T17:49:28.448362Z",
     "start_time": "2019-10-08T17:49:28.436441Z"
    }
   },
   "outputs": [],
   "source": [
    "# Add rank columns:\n",
    "def assign_rank(row):\n",
    "    score_sum = row.emotional_abuse_sum\n",
    "    if score_sum >= 5 and score_sum <= 8:\n",
    "        emotional_abuse_rank = \"None\"\n",
    "    elif score_sum >= 9 and score_sum <= 12:\n",
    "        emotional_abuse_rank = \"Low\"\n",
    "    elif score_sum >= 13 and score_sum <= 15:\n",
    "        emotional_abuse_rank = \"Moderate\"\n",
    "    elif score_sum >= 16:\n",
    "        emotional_abuse_rank = \"High\"\n",
    "    else:\n",
    "        emotional_abuse_rank = np.nan\n",
    "            \n",
    "    score_sum = row.physical_abuse_sum\n",
    "    if score_sum >= 5 and score_sum <= 7:\n",
    "        physical_abuse_rank = \"None\"\n",
    "    elif score_sum >= 8 and score_sum <= 9:\n",
    "        physical_abuse_rank = \"Low\"\n",
    "    elif score_sum >= 10 and score_sum <= 12:\n",
    "        physical_abuse_rank = \"Moderate\"\n",
    "    elif score_sum >= 13:\n",
    "        physical_abuse_rank = \"High\"\n",
    "    else:\n",
    "        physical_abuse_rank = np.nan\n",
    "            \n",
    "    score_sum = row.sexual_abuse_sum\n",
    "    if score_sum == 5:\n",
    "        sexual_abuse_rank = \"None\"\n",
    "    elif score_sum >= 6 and score_sum <= 7:\n",
    "        sexual_abuse_rank = \"Low\"\n",
    "    elif score_sum >= 8 and score_sum <= 12:\n",
    "        sexual_abuse_rank = \"Moderate\"\n",
    "    elif score_sum >= 13:\n",
    "        sexual_abuse_rank = \"High\"\n",
    "    else:\n",
    "        sexual_abuse_rank = np.nan\n",
    "            \n",
    "    score_sum = row.emotional_neglect_sum\n",
    "    if score_sum >= 5 and score_sum <= 9:\n",
    "        emotional_neglect_rank = \"None\"\n",
    "    elif score_sum >= 10 and score_sum <= 14:\n",
    "        emotional_neglect_rank = \"Low\"\n",
    "    elif score_sum >= 15 and score_sum <= 17:\n",
    "        emotional_neglect_rank = \"Moderate\"\n",
    "    elif score_sum >= 18:\n",
    "        emotional_neglect_rank = \"High\"\n",
    "    else:\n",
    "        emotional_neglect_rank = np.nan\n",
    "            \n",
    "    score_sum = row.physical_neglect_sum\n",
    "    if score_sum >= 5 and score_sum <= 7:\n",
    "        physical_neglect_rank = \"None\"\n",
    "    elif score_sum >= 8 and score_sum <= 9:\n",
    "        physical_neglect_rank = \"Low\"\n",
    "    elif score_sum >= 10 and score_sum <= 12:\n",
    "        physical_neglect_rank = \"Moderate\"\n",
    "    elif score_sum >= 13:\n",
    "        physical_neglect_rank = \"High\"\n",
    "    else:\n",
    "        physical_neglect_rank = np.nan\n",
    "        \n",
    "    return pd.Series((emotional_abuse_rank, physical_abuse_rank, sexual_abuse_rank, \n",
    "                      emotional_neglect_rank, physical_neglect_rank))"
   ]
  },
  {
   "cell_type": "code",
   "execution_count": 23,
   "metadata": {
    "ExecuteTime": {
     "end_time": "2019-10-08T17:49:28.516563Z",
     "start_time": "2019-10-08T17:49:28.451214Z"
    }
   },
   "outputs": [],
   "source": [
    "total_scores_df[['emotional_abuse_rank', 'physical_abuse_rank', 'sexual_abuse_rank', \n",
    "                 'emotional_neglect_rank', 'physical_neglect_rank']] = total_scores_df.apply(assign_rank, axis=1)"
   ]
  },
  {
   "cell_type": "code",
   "execution_count": 24,
   "metadata": {
    "ExecuteTime": {
     "end_time": "2019-10-08T17:49:28.525741Z",
     "start_time": "2019-10-08T17:49:28.518001Z"
    }
   },
   "outputs": [],
   "source": [
    "total_scores_df = total_scores_df.reindex(sorted(total_scores_df.columns), axis=1)"
   ]
  },
  {
   "cell_type": "code",
   "execution_count": 25,
   "metadata": {
    "ExecuteTime": {
     "end_time": "2019-10-08T17:49:28.594548Z",
     "start_time": "2019-10-08T17:49:28.528964Z"
    }
   },
   "outputs": [
    {
     "data": {
      "text/html": [
       "<div>\n",
       "<style scoped>\n",
       "    .dataframe tbody tr th:only-of-type {\n",
       "        vertical-align: middle;\n",
       "    }\n",
       "\n",
       "    .dataframe tbody tr th {\n",
       "        vertical-align: top;\n",
       "    }\n",
       "\n",
       "    .dataframe thead th {\n",
       "        text-align: right;\n",
       "    }\n",
       "</style>\n",
       "<table border=\"1\" class=\"dataframe\">\n",
       "  <thead>\n",
       "    <tr style=\"text-align: right;\">\n",
       "      <th></th>\n",
       "      <th>contains_nan</th>\n",
       "      <th>emotional_abuse_contains_nan</th>\n",
       "      <th>emotional_abuse_nan_counts</th>\n",
       "      <th>emotional_abuse_prorated</th>\n",
       "      <th>emotional_abuse_rank</th>\n",
       "      <th>emotional_abuse_sum</th>\n",
       "      <th>emotional_neglect_contains_nan</th>\n",
       "      <th>emotional_neglect_nan_counts</th>\n",
       "      <th>emotional_neglect_prorated</th>\n",
       "      <th>emotional_neglect_rank</th>\n",
       "      <th>...</th>\n",
       "      <th>physical_neglect_contains_nan</th>\n",
       "      <th>physical_neglect_nan_counts</th>\n",
       "      <th>physical_neglect_prorated</th>\n",
       "      <th>physical_neglect_rank</th>\n",
       "      <th>physical_neglect_sum</th>\n",
       "      <th>sexual_abuse_contains_nan</th>\n",
       "      <th>sexual_abuse_nan_counts</th>\n",
       "      <th>sexual_abuse_prorated</th>\n",
       "      <th>sexual_abuse_rank</th>\n",
       "      <th>sexual_abuse_sum</th>\n",
       "    </tr>\n",
       "    <tr>\n",
       "      <th>redcap_id</th>\n",
       "      <th></th>\n",
       "      <th></th>\n",
       "      <th></th>\n",
       "      <th></th>\n",
       "      <th></th>\n",
       "      <th></th>\n",
       "      <th></th>\n",
       "      <th></th>\n",
       "      <th></th>\n",
       "      <th></th>\n",
       "      <th></th>\n",
       "      <th></th>\n",
       "      <th></th>\n",
       "      <th></th>\n",
       "      <th></th>\n",
       "      <th></th>\n",
       "      <th></th>\n",
       "      <th></th>\n",
       "      <th></th>\n",
       "      <th></th>\n",
       "      <th></th>\n",
       "    </tr>\n",
       "  </thead>\n",
       "  <tbody>\n",
       "    <tr>\n",
       "      <td>E1</td>\n",
       "      <td>False</td>\n",
       "      <td>False</td>\n",
       "      <td>0</td>\n",
       "      <td>2.2</td>\n",
       "      <td>Low</td>\n",
       "      <td>11.0</td>\n",
       "      <td>False</td>\n",
       "      <td>0</td>\n",
       "      <td>1.0</td>\n",
       "      <td>None</td>\n",
       "      <td>...</td>\n",
       "      <td>False</td>\n",
       "      <td>0</td>\n",
       "      <td>1.0</td>\n",
       "      <td>None</td>\n",
       "      <td>5.0</td>\n",
       "      <td>False</td>\n",
       "      <td>0</td>\n",
       "      <td>1.0</td>\n",
       "      <td>None</td>\n",
       "      <td>5.0</td>\n",
       "    </tr>\n",
       "    <tr>\n",
       "      <td>E2</td>\n",
       "      <td>False</td>\n",
       "      <td>False</td>\n",
       "      <td>0</td>\n",
       "      <td>4.8</td>\n",
       "      <td>High</td>\n",
       "      <td>24.0</td>\n",
       "      <td>False</td>\n",
       "      <td>0</td>\n",
       "      <td>4.8</td>\n",
       "      <td>High</td>\n",
       "      <td>...</td>\n",
       "      <td>False</td>\n",
       "      <td>0</td>\n",
       "      <td>2.4</td>\n",
       "      <td>Moderate</td>\n",
       "      <td>12.0</td>\n",
       "      <td>False</td>\n",
       "      <td>0</td>\n",
       "      <td>1.2</td>\n",
       "      <td>Low</td>\n",
       "      <td>6.0</td>\n",
       "    </tr>\n",
       "    <tr>\n",
       "      <td>E3</td>\n",
       "      <td>False</td>\n",
       "      <td>False</td>\n",
       "      <td>0</td>\n",
       "      <td>1.0</td>\n",
       "      <td>None</td>\n",
       "      <td>5.0</td>\n",
       "      <td>False</td>\n",
       "      <td>0</td>\n",
       "      <td>4.2</td>\n",
       "      <td>High</td>\n",
       "      <td>...</td>\n",
       "      <td>False</td>\n",
       "      <td>0</td>\n",
       "      <td>3.0</td>\n",
       "      <td>High</td>\n",
       "      <td>15.0</td>\n",
       "      <td>False</td>\n",
       "      <td>0</td>\n",
       "      <td>1.2</td>\n",
       "      <td>Low</td>\n",
       "      <td>6.0</td>\n",
       "    </tr>\n",
       "    <tr>\n",
       "      <td>E4</td>\n",
       "      <td>False</td>\n",
       "      <td>False</td>\n",
       "      <td>0</td>\n",
       "      <td>1.0</td>\n",
       "      <td>None</td>\n",
       "      <td>5.0</td>\n",
       "      <td>False</td>\n",
       "      <td>0</td>\n",
       "      <td>2.8</td>\n",
       "      <td>Low</td>\n",
       "      <td>...</td>\n",
       "      <td>False</td>\n",
       "      <td>0</td>\n",
       "      <td>1.2</td>\n",
       "      <td>None</td>\n",
       "      <td>6.0</td>\n",
       "      <td>False</td>\n",
       "      <td>0</td>\n",
       "      <td>1.2</td>\n",
       "      <td>Low</td>\n",
       "      <td>6.0</td>\n",
       "    </tr>\n",
       "    <tr>\n",
       "      <td>E5</td>\n",
       "      <td>False</td>\n",
       "      <td>False</td>\n",
       "      <td>0</td>\n",
       "      <td>1.0</td>\n",
       "      <td>None</td>\n",
       "      <td>5.0</td>\n",
       "      <td>False</td>\n",
       "      <td>0</td>\n",
       "      <td>1.0</td>\n",
       "      <td>None</td>\n",
       "      <td>...</td>\n",
       "      <td>False</td>\n",
       "      <td>0</td>\n",
       "      <td>1.0</td>\n",
       "      <td>None</td>\n",
       "      <td>5.0</td>\n",
       "      <td>False</td>\n",
       "      <td>0</td>\n",
       "      <td>1.0</td>\n",
       "      <td>None</td>\n",
       "      <td>5.0</td>\n",
       "    </tr>\n",
       "    <tr>\n",
       "      <td>...</td>\n",
       "      <td>...</td>\n",
       "      <td>...</td>\n",
       "      <td>...</td>\n",
       "      <td>...</td>\n",
       "      <td>...</td>\n",
       "      <td>...</td>\n",
       "      <td>...</td>\n",
       "      <td>...</td>\n",
       "      <td>...</td>\n",
       "      <td>...</td>\n",
       "      <td>...</td>\n",
       "      <td>...</td>\n",
       "      <td>...</td>\n",
       "      <td>...</td>\n",
       "      <td>...</td>\n",
       "      <td>...</td>\n",
       "      <td>...</td>\n",
       "      <td>...</td>\n",
       "      <td>...</td>\n",
       "      <td>...</td>\n",
       "      <td>...</td>\n",
       "    </tr>\n",
       "    <tr>\n",
       "      <td>F29</td>\n",
       "      <td>False</td>\n",
       "      <td>False</td>\n",
       "      <td>0</td>\n",
       "      <td>1.6</td>\n",
       "      <td>None</td>\n",
       "      <td>8.0</td>\n",
       "      <td>False</td>\n",
       "      <td>0</td>\n",
       "      <td>2.2</td>\n",
       "      <td>Low</td>\n",
       "      <td>...</td>\n",
       "      <td>False</td>\n",
       "      <td>0</td>\n",
       "      <td>1.2</td>\n",
       "      <td>None</td>\n",
       "      <td>6.0</td>\n",
       "      <td>False</td>\n",
       "      <td>0</td>\n",
       "      <td>1.0</td>\n",
       "      <td>None</td>\n",
       "      <td>5.0</td>\n",
       "    </tr>\n",
       "    <tr>\n",
       "      <td>F30</td>\n",
       "      <td>False</td>\n",
       "      <td>False</td>\n",
       "      <td>0</td>\n",
       "      <td>1.6</td>\n",
       "      <td>None</td>\n",
       "      <td>8.0</td>\n",
       "      <td>False</td>\n",
       "      <td>0</td>\n",
       "      <td>3.0</td>\n",
       "      <td>Moderate</td>\n",
       "      <td>...</td>\n",
       "      <td>False</td>\n",
       "      <td>0</td>\n",
       "      <td>1.2</td>\n",
       "      <td>None</td>\n",
       "      <td>6.0</td>\n",
       "      <td>False</td>\n",
       "      <td>0</td>\n",
       "      <td>1.0</td>\n",
       "      <td>None</td>\n",
       "      <td>5.0</td>\n",
       "    </tr>\n",
       "    <tr>\n",
       "      <td>F31</td>\n",
       "      <td>False</td>\n",
       "      <td>False</td>\n",
       "      <td>0</td>\n",
       "      <td>3.4</td>\n",
       "      <td>High</td>\n",
       "      <td>17.0</td>\n",
       "      <td>False</td>\n",
       "      <td>0</td>\n",
       "      <td>2.4</td>\n",
       "      <td>Low</td>\n",
       "      <td>...</td>\n",
       "      <td>False</td>\n",
       "      <td>0</td>\n",
       "      <td>1.0</td>\n",
       "      <td>None</td>\n",
       "      <td>5.0</td>\n",
       "      <td>False</td>\n",
       "      <td>0</td>\n",
       "      <td>2.0</td>\n",
       "      <td>Moderate</td>\n",
       "      <td>10.0</td>\n",
       "    </tr>\n",
       "    <tr>\n",
       "      <td>F33</td>\n",
       "      <td>False</td>\n",
       "      <td>False</td>\n",
       "      <td>0</td>\n",
       "      <td>1.2</td>\n",
       "      <td>None</td>\n",
       "      <td>6.0</td>\n",
       "      <td>False</td>\n",
       "      <td>0</td>\n",
       "      <td>2.4</td>\n",
       "      <td>Low</td>\n",
       "      <td>...</td>\n",
       "      <td>False</td>\n",
       "      <td>0</td>\n",
       "      <td>1.0</td>\n",
       "      <td>None</td>\n",
       "      <td>5.0</td>\n",
       "      <td>False</td>\n",
       "      <td>0</td>\n",
       "      <td>1.0</td>\n",
       "      <td>None</td>\n",
       "      <td>5.0</td>\n",
       "    </tr>\n",
       "    <tr>\n",
       "      <td>F34</td>\n",
       "      <td>False</td>\n",
       "      <td>False</td>\n",
       "      <td>0</td>\n",
       "      <td>1.2</td>\n",
       "      <td>None</td>\n",
       "      <td>6.0</td>\n",
       "      <td>False</td>\n",
       "      <td>0</td>\n",
       "      <td>3.8</td>\n",
       "      <td>High</td>\n",
       "      <td>...</td>\n",
       "      <td>False</td>\n",
       "      <td>0</td>\n",
       "      <td>2.6</td>\n",
       "      <td>High</td>\n",
       "      <td>13.0</td>\n",
       "      <td>False</td>\n",
       "      <td>0</td>\n",
       "      <td>1.8</td>\n",
       "      <td>Moderate</td>\n",
       "      <td>9.0</td>\n",
       "    </tr>\n",
       "  </tbody>\n",
       "</table>\n",
       "<p>77 rows × 30 columns</p>\n",
       "</div>"
      ],
      "text/plain": [
       "           contains_nan  emotional_abuse_contains_nan  \\\n",
       "redcap_id                                               \n",
       "E1                False                         False   \n",
       "E2                False                         False   \n",
       "E3                False                         False   \n",
       "E4                False                         False   \n",
       "E5                False                         False   \n",
       "...                 ...                           ...   \n",
       "F29               False                         False   \n",
       "F30               False                         False   \n",
       "F31               False                         False   \n",
       "F33               False                         False   \n",
       "F34               False                         False   \n",
       "\n",
       "           emotional_abuse_nan_counts  emotional_abuse_prorated  \\\n",
       "redcap_id                                                         \n",
       "E1                                  0                       2.2   \n",
       "E2                                  0                       4.8   \n",
       "E3                                  0                       1.0   \n",
       "E4                                  0                       1.0   \n",
       "E5                                  0                       1.0   \n",
       "...                               ...                       ...   \n",
       "F29                                 0                       1.6   \n",
       "F30                                 0                       1.6   \n",
       "F31                                 0                       3.4   \n",
       "F33                                 0                       1.2   \n",
       "F34                                 0                       1.2   \n",
       "\n",
       "          emotional_abuse_rank  emotional_abuse_sum  \\\n",
       "redcap_id                                             \n",
       "E1                         Low                 11.0   \n",
       "E2                        High                 24.0   \n",
       "E3                        None                  5.0   \n",
       "E4                        None                  5.0   \n",
       "E5                        None                  5.0   \n",
       "...                        ...                  ...   \n",
       "F29                       None                  8.0   \n",
       "F30                       None                  8.0   \n",
       "F31                       High                 17.0   \n",
       "F33                       None                  6.0   \n",
       "F34                       None                  6.0   \n",
       "\n",
       "           emotional_neglect_contains_nan  emotional_neglect_nan_counts  \\\n",
       "redcap_id                                                                 \n",
       "E1                                  False                             0   \n",
       "E2                                  False                             0   \n",
       "E3                                  False                             0   \n",
       "E4                                  False                             0   \n",
       "E5                                  False                             0   \n",
       "...                                   ...                           ...   \n",
       "F29                                 False                             0   \n",
       "F30                                 False                             0   \n",
       "F31                                 False                             0   \n",
       "F33                                 False                             0   \n",
       "F34                                 False                             0   \n",
       "\n",
       "           emotional_neglect_prorated emotional_neglect_rank  ...  \\\n",
       "redcap_id                                                     ...   \n",
       "E1                                1.0                   None  ...   \n",
       "E2                                4.8                   High  ...   \n",
       "E3                                4.2                   High  ...   \n",
       "E4                                2.8                    Low  ...   \n",
       "E5                                1.0                   None  ...   \n",
       "...                               ...                    ...  ...   \n",
       "F29                               2.2                    Low  ...   \n",
       "F30                               3.0               Moderate  ...   \n",
       "F31                               2.4                    Low  ...   \n",
       "F33                               2.4                    Low  ...   \n",
       "F34                               3.8                   High  ...   \n",
       "\n",
       "           physical_neglect_contains_nan  physical_neglect_nan_counts  \\\n",
       "redcap_id                                                               \n",
       "E1                                 False                            0   \n",
       "E2                                 False                            0   \n",
       "E3                                 False                            0   \n",
       "E4                                 False                            0   \n",
       "E5                                 False                            0   \n",
       "...                                  ...                          ...   \n",
       "F29                                False                            0   \n",
       "F30                                False                            0   \n",
       "F31                                False                            0   \n",
       "F33                                False                            0   \n",
       "F34                                False                            0   \n",
       "\n",
       "           physical_neglect_prorated  physical_neglect_rank  \\\n",
       "redcap_id                                                     \n",
       "E1                               1.0                   None   \n",
       "E2                               2.4               Moderate   \n",
       "E3                               3.0                   High   \n",
       "E4                               1.2                   None   \n",
       "E5                               1.0                   None   \n",
       "...                              ...                    ...   \n",
       "F29                              1.2                   None   \n",
       "F30                              1.2                   None   \n",
       "F31                              1.0                   None   \n",
       "F33                              1.0                   None   \n",
       "F34                              2.6                   High   \n",
       "\n",
       "           physical_neglect_sum  sexual_abuse_contains_nan  \\\n",
       "redcap_id                                                    \n",
       "E1                          5.0                      False   \n",
       "E2                         12.0                      False   \n",
       "E3                         15.0                      False   \n",
       "E4                          6.0                      False   \n",
       "E5                          5.0                      False   \n",
       "...                         ...                        ...   \n",
       "F29                         6.0                      False   \n",
       "F30                         6.0                      False   \n",
       "F31                         5.0                      False   \n",
       "F33                         5.0                      False   \n",
       "F34                        13.0                      False   \n",
       "\n",
       "           sexual_abuse_nan_counts  sexual_abuse_prorated sexual_abuse_rank  \\\n",
       "redcap_id                                                                     \n",
       "E1                               0                    1.0              None   \n",
       "E2                               0                    1.2               Low   \n",
       "E3                               0                    1.2               Low   \n",
       "E4                               0                    1.2               Low   \n",
       "E5                               0                    1.0              None   \n",
       "...                            ...                    ...               ...   \n",
       "F29                              0                    1.0              None   \n",
       "F30                              0                    1.0              None   \n",
       "F31                              0                    2.0          Moderate   \n",
       "F33                              0                    1.0              None   \n",
       "F34                              0                    1.8          Moderate   \n",
       "\n",
       "           sexual_abuse_sum  \n",
       "redcap_id                    \n",
       "E1                      5.0  \n",
       "E2                      6.0  \n",
       "E3                      6.0  \n",
       "E4                      6.0  \n",
       "E5                      5.0  \n",
       "...                     ...  \n",
       "F29                     5.0  \n",
       "F30                     5.0  \n",
       "F31                    10.0  \n",
       "F33                     5.0  \n",
       "F34                     9.0  \n",
       "\n",
       "[77 rows x 30 columns]"
      ]
     },
     "execution_count": 25,
     "metadata": {},
     "output_type": "execute_result"
    }
   ],
   "source": [
    "total_scores_df.round(1)"
   ]
  },
  {
   "cell_type": "markdown",
   "metadata": {},
   "source": [
    "### Save dataframe to csv file:"
   ]
  },
  {
   "cell_type": "code",
   "execution_count": 26,
   "metadata": {
    "ExecuteTime": {
     "end_time": "2019-10-08T17:49:28.607770Z",
     "start_time": "2019-10-08T17:49:28.596568Z"
    }
   },
   "outputs": [],
   "source": [
    "total_scores_df.round(1).to_csv(\"CTQ_MAWS_total_subscale_scores_ALL.csv\")"
   ]
  },
  {
   "cell_type": "code",
   "execution_count": null,
   "metadata": {},
   "outputs": [],
   "source": []
  }
 ],
 "metadata": {
  "kernelspec": {
   "display_name": "Python 3",
   "language": "python",
   "name": "python3"
  },
  "language_info": {
   "codemirror_mode": {
    "name": "ipython",
    "version": 3
   },
   "file_extension": ".py",
   "mimetype": "text/x-python",
   "name": "python",
   "nbconvert_exporter": "python",
   "pygments_lexer": "ipython3",
   "version": "3.7.4"
  },
  "toc": {
   "base_numbering": 1,
   "nav_menu": {},
   "number_sections": true,
   "sideBar": true,
   "skip_h1_title": false,
   "title_cell": "Table of Contents",
   "title_sidebar": "Contents",
   "toc_cell": false,
   "toc_position": {},
   "toc_section_display": true,
   "toc_window_display": true
  }
 },
 "nbformat": 4,
 "nbformat_minor": 2
}
