{
 "cells": [
  {
   "cell_type": "code",
   "execution_count": 2,
   "metadata": {
    "ExecuteTime": {
     "end_time": "2019-10-11T15:32:16.089211Z",
     "start_time": "2019-10-11T15:32:14.607594Z"
    }
   },
   "outputs": [],
   "source": [
    "import numpy as np\n",
    "import pandas as pd\n",
    "\n",
    "import matplotlib.pyplot as plt\n",
    "import seaborn as sns"
   ]
  },
  {
   "cell_type": "markdown",
   "metadata": {},
   "source": [
    "## Data import:"
   ]
  },
  {
   "cell_type": "code",
   "execution_count": 3,
   "metadata": {
    "ExecuteTime": {
     "end_time": "2019-10-11T15:32:16.158600Z",
     "start_time": "2019-10-11T15:32:16.090898Z"
    }
   },
   "outputs": [],
   "source": [
    "# Read in data as a pandas DataFrame\n",
    "ctq_a1_df = pd.read_csv(\"../data/CTQ_20191008.csv\")\n",
    "\n",
    "# Keep only the 'redcap_id' column as well as all columns that start with 'ctq'\n",
    "ctq_a1_df = ctq_a1_df[['redcap_id'] + [col for col in ctq_a1_df if col.startswith('ctq')]]\n",
    "\n",
    "# Set index to 'redcap_id'\n",
    "ctq_a1_df = ctq_a1_df.set_index('redcap_id')"
   ]
  },
  {
   "cell_type": "code",
   "execution_count": 5,
   "metadata": {
    "ExecuteTime": {
     "end_time": "2019-10-11T15:32:32.769746Z",
     "start_time": "2019-10-11T15:32:32.731314Z"
    }
   },
   "outputs": [
    {
     "data": {
      "text/html": [
       "<div>\n",
       "<style scoped>\n",
       "    .dataframe tbody tr th:only-of-type {\n",
       "        vertical-align: middle;\n",
       "    }\n",
       "\n",
       "    .dataframe tbody tr th {\n",
       "        vertical-align: top;\n",
       "    }\n",
       "\n",
       "    .dataframe thead th {\n",
       "        text-align: right;\n",
       "    }\n",
       "</style>\n",
       "<table border=\"1\" class=\"dataframe\">\n",
       "  <thead>\n",
       "    <tr style=\"text-align: right;\">\n",
       "      <th></th>\n",
       "      <th>ctq_your_childhood_timestamp</th>\n",
       "      <th>ctqq_1</th>\n",
       "      <th>ctqq_2</th>\n",
       "      <th>ctqq_3</th>\n",
       "      <th>ctqq_4</th>\n",
       "      <th>ctqq_5</th>\n",
       "      <th>ctqq_6</th>\n",
       "      <th>ctqq_7</th>\n",
       "      <th>ctqq_8</th>\n",
       "      <th>ctqq_9</th>\n",
       "      <th>...</th>\n",
       "      <th>ctqq_20</th>\n",
       "      <th>ctqq_21</th>\n",
       "      <th>ctqq_22</th>\n",
       "      <th>ctqq_23</th>\n",
       "      <th>ctqq_24</th>\n",
       "      <th>ctqq_25</th>\n",
       "      <th>ctqq_26</th>\n",
       "      <th>ctqq_27</th>\n",
       "      <th>ctqq_28</th>\n",
       "      <th>ctq_your_childhood_complete</th>\n",
       "    </tr>\n",
       "    <tr>\n",
       "      <th>redcap_id</th>\n",
       "      <th></th>\n",
       "      <th></th>\n",
       "      <th></th>\n",
       "      <th></th>\n",
       "      <th></th>\n",
       "      <th></th>\n",
       "      <th></th>\n",
       "      <th></th>\n",
       "      <th></th>\n",
       "      <th></th>\n",
       "      <th></th>\n",
       "      <th></th>\n",
       "      <th></th>\n",
       "      <th></th>\n",
       "      <th></th>\n",
       "      <th></th>\n",
       "      <th></th>\n",
       "      <th></th>\n",
       "      <th></th>\n",
       "      <th></th>\n",
       "      <th></th>\n",
       "    </tr>\n",
       "  </thead>\n",
       "  <tbody>\n",
       "    <tr>\n",
       "      <td>1</td>\n",
       "      <td>NaN</td>\n",
       "      <td>1.0</td>\n",
       "      <td>5.0</td>\n",
       "      <td>3.0</td>\n",
       "      <td>1.0</td>\n",
       "      <td>5.0</td>\n",
       "      <td>1.0</td>\n",
       "      <td>5.0</td>\n",
       "      <td>1.0</td>\n",
       "      <td>1.0</td>\n",
       "      <td>...</td>\n",
       "      <td>1.0</td>\n",
       "      <td>1.0</td>\n",
       "      <td>5.0</td>\n",
       "      <td>1.0</td>\n",
       "      <td>1.0</td>\n",
       "      <td>1.0</td>\n",
       "      <td>5.0</td>\n",
       "      <td>1.0</td>\n",
       "      <td>5.0</td>\n",
       "      <td>2</td>\n",
       "    </tr>\n",
       "    <tr>\n",
       "      <td>2</td>\n",
       "      <td>13-08-19 10:36</td>\n",
       "      <td>4.0</td>\n",
       "      <td>3.0</td>\n",
       "      <td>5.0</td>\n",
       "      <td>3.0</td>\n",
       "      <td>1.0</td>\n",
       "      <td>1.0</td>\n",
       "      <td>2.0</td>\n",
       "      <td>5.0</td>\n",
       "      <td>5.0</td>\n",
       "      <td>...</td>\n",
       "      <td>1.0</td>\n",
       "      <td>1.0</td>\n",
       "      <td>2.0</td>\n",
       "      <td>2.0</td>\n",
       "      <td>1.0</td>\n",
       "      <td>4.0</td>\n",
       "      <td>5.0</td>\n",
       "      <td>1.0</td>\n",
       "      <td>1.0</td>\n",
       "      <td>2</td>\n",
       "    </tr>\n",
       "  </tbody>\n",
       "</table>\n",
       "<p>2 rows × 30 columns</p>\n",
       "</div>"
      ],
      "text/plain": [
       "          ctq_your_childhood_timestamp  ctqq_1  ctqq_2  ctqq_3  ctqq_4  \\\n",
       "redcap_id                                                                \n",
       "1                                  NaN     1.0     5.0     3.0     1.0   \n",
       "2                       13-08-19 10:36     4.0     3.0     5.0     3.0   \n",
       "\n",
       "           ctqq_5  ctqq_6  ctqq_7  ctqq_8  ctqq_9  ...  ctqq_20  ctqq_21  \\\n",
       "redcap_id                                          ...                     \n",
       "1             5.0     1.0     5.0     1.0     1.0  ...      1.0      1.0   \n",
       "2             1.0     1.0     2.0     5.0     5.0  ...      1.0      1.0   \n",
       "\n",
       "           ctqq_22  ctqq_23  ctqq_24  ctqq_25  ctqq_26  ctqq_27  ctqq_28  \\\n",
       "redcap_id                                                                  \n",
       "1              5.0      1.0      1.0      1.0      5.0      1.0      5.0   \n",
       "2              2.0      2.0      1.0      4.0      5.0      1.0      1.0   \n",
       "\n",
       "           ctq_your_childhood_complete  \n",
       "redcap_id                               \n",
       "1                                    2  \n",
       "2                                    2  \n",
       "\n",
       "[2 rows x 30 columns]"
      ]
     },
     "execution_count": 5,
     "metadata": {},
     "output_type": "execute_result"
    }
   ],
   "source": [
    "ctq_a1_df.head(2)"
   ]
  },
  {
   "cell_type": "code",
   "execution_count": 6,
   "metadata": {
    "ExecuteTime": {
     "end_time": "2019-10-11T15:32:52.248192Z",
     "start_time": "2019-10-11T15:32:52.240512Z"
    }
   },
   "outputs": [
    {
     "data": {
      "text/plain": [
       "(84, 30)"
      ]
     },
     "execution_count": 6,
     "metadata": {},
     "output_type": "execute_result"
    }
   ],
   "source": [
    "ctq_a1_df.shape"
   ]
  },
  {
   "cell_type": "markdown",
   "metadata": {},
   "source": [
    "## Check and remove duplicated redcap_ids:"
   ]
  },
  {
   "cell_type": "code",
   "execution_count": 7,
   "metadata": {
    "ExecuteTime": {
     "end_time": "2019-10-11T15:32:59.674836Z",
     "start_time": "2019-10-11T15:32:59.654739Z"
    }
   },
   "outputs": [
    {
     "data": {
      "text/html": [
       "<div>\n",
       "<style scoped>\n",
       "    .dataframe tbody tr th:only-of-type {\n",
       "        vertical-align: middle;\n",
       "    }\n",
       "\n",
       "    .dataframe tbody tr th {\n",
       "        vertical-align: top;\n",
       "    }\n",
       "\n",
       "    .dataframe thead th {\n",
       "        text-align: right;\n",
       "    }\n",
       "</style>\n",
       "<table border=\"1\" class=\"dataframe\">\n",
       "  <thead>\n",
       "    <tr style=\"text-align: right;\">\n",
       "      <th></th>\n",
       "      <th>ctq_your_childhood_timestamp</th>\n",
       "      <th>ctqq_1</th>\n",
       "      <th>ctqq_2</th>\n",
       "      <th>ctqq_3</th>\n",
       "      <th>ctqq_4</th>\n",
       "      <th>ctqq_5</th>\n",
       "      <th>ctqq_6</th>\n",
       "      <th>ctqq_7</th>\n",
       "      <th>ctqq_8</th>\n",
       "      <th>ctqq_9</th>\n",
       "      <th>...</th>\n",
       "      <th>ctqq_20</th>\n",
       "      <th>ctqq_21</th>\n",
       "      <th>ctqq_22</th>\n",
       "      <th>ctqq_23</th>\n",
       "      <th>ctqq_24</th>\n",
       "      <th>ctqq_25</th>\n",
       "      <th>ctqq_26</th>\n",
       "      <th>ctqq_27</th>\n",
       "      <th>ctqq_28</th>\n",
       "      <th>ctq_your_childhood_complete</th>\n",
       "    </tr>\n",
       "    <tr>\n",
       "      <th>redcap_id</th>\n",
       "      <th></th>\n",
       "      <th></th>\n",
       "      <th></th>\n",
       "      <th></th>\n",
       "      <th></th>\n",
       "      <th></th>\n",
       "      <th></th>\n",
       "      <th></th>\n",
       "      <th></th>\n",
       "      <th></th>\n",
       "      <th></th>\n",
       "      <th></th>\n",
       "      <th></th>\n",
       "      <th></th>\n",
       "      <th></th>\n",
       "      <th></th>\n",
       "      <th></th>\n",
       "      <th></th>\n",
       "      <th></th>\n",
       "      <th></th>\n",
       "      <th></th>\n",
       "    </tr>\n",
       "  </thead>\n",
       "  <tbody>\n",
       "  </tbody>\n",
       "</table>\n",
       "<p>0 rows × 30 columns</p>\n",
       "</div>"
      ],
      "text/plain": [
       "Empty DataFrame\n",
       "Columns: [ctq_your_childhood_timestamp, ctqq_1, ctqq_2, ctqq_3, ctqq_4, ctqq_5, ctqq_6, ctqq_7, ctqq_8, ctqq_9, ctqq_10, ctqq_11, ctqq_12, ctqq_13, ctqq_14, ctqq_15, ctqq_16, ctqq_17, ctqq_18, ctqq_19, ctqq_20, ctqq_21, ctqq_22, ctqq_23, ctqq_24, ctqq_25, ctqq_26, ctqq_27, ctqq_28, ctq_your_childhood_complete]\n",
       "Index: []\n",
       "\n",
       "[0 rows x 30 columns]"
      ]
     },
     "execution_count": 7,
     "metadata": {},
     "output_type": "execute_result"
    }
   ],
   "source": [
    "# Check for duplicates:\n",
    "ctq_a1_df[ctq_a1_df.index.duplicated()]"
   ]
  },
  {
   "cell_type": "code",
   "execution_count": 8,
   "metadata": {
    "ExecuteTime": {
     "end_time": "2019-10-11T15:33:03.769805Z",
     "start_time": "2019-10-11T15:33:03.761516Z"
    }
   },
   "outputs": [],
   "source": [
    "# remove duplicates if any:\n",
    "ctq_a1_df = ctq_a1_df[~ctq_a1_df.index.duplicated(keep ='first')]"
   ]
  },
  {
   "cell_type": "markdown",
   "metadata": {},
   "source": [
    "## Subsetting data to questionnaire answers only:"
   ]
  },
  {
   "cell_type": "code",
   "execution_count": 9,
   "metadata": {
    "ExecuteTime": {
     "end_time": "2019-10-11T15:33:10.987827Z",
     "start_time": "2019-10-11T15:33:10.973480Z"
    }
   },
   "outputs": [],
   "source": [
    "# Here using iloc I keep all rows but remove the first and last columns\n",
    "ctq_a1_subset_df = ctq_a1_df.iloc[:, 1:len(ctq_a1_df.columns)-1]"
   ]
  },
  {
   "cell_type": "code",
   "execution_count": 10,
   "metadata": {
    "ExecuteTime": {
     "end_time": "2019-10-11T15:33:15.483491Z",
     "start_time": "2019-10-11T15:33:15.444663Z"
    }
   },
   "outputs": [
    {
     "data": {
      "text/html": [
       "<div>\n",
       "<style scoped>\n",
       "    .dataframe tbody tr th:only-of-type {\n",
       "        vertical-align: middle;\n",
       "    }\n",
       "\n",
       "    .dataframe tbody tr th {\n",
       "        vertical-align: top;\n",
       "    }\n",
       "\n",
       "    .dataframe thead th {\n",
       "        text-align: right;\n",
       "    }\n",
       "</style>\n",
       "<table border=\"1\" class=\"dataframe\">\n",
       "  <thead>\n",
       "    <tr style=\"text-align: right;\">\n",
       "      <th></th>\n",
       "      <th>ctqq_1</th>\n",
       "      <th>ctqq_2</th>\n",
       "      <th>ctqq_3</th>\n",
       "      <th>ctqq_4</th>\n",
       "      <th>ctqq_5</th>\n",
       "      <th>ctqq_6</th>\n",
       "      <th>ctqq_7</th>\n",
       "      <th>ctqq_8</th>\n",
       "      <th>ctqq_9</th>\n",
       "      <th>ctqq_10</th>\n",
       "      <th>...</th>\n",
       "      <th>ctqq_19</th>\n",
       "      <th>ctqq_20</th>\n",
       "      <th>ctqq_21</th>\n",
       "      <th>ctqq_22</th>\n",
       "      <th>ctqq_23</th>\n",
       "      <th>ctqq_24</th>\n",
       "      <th>ctqq_25</th>\n",
       "      <th>ctqq_26</th>\n",
       "      <th>ctqq_27</th>\n",
       "      <th>ctqq_28</th>\n",
       "    </tr>\n",
       "    <tr>\n",
       "      <th>redcap_id</th>\n",
       "      <th></th>\n",
       "      <th></th>\n",
       "      <th></th>\n",
       "      <th></th>\n",
       "      <th></th>\n",
       "      <th></th>\n",
       "      <th></th>\n",
       "      <th></th>\n",
       "      <th></th>\n",
       "      <th></th>\n",
       "      <th></th>\n",
       "      <th></th>\n",
       "      <th></th>\n",
       "      <th></th>\n",
       "      <th></th>\n",
       "      <th></th>\n",
       "      <th></th>\n",
       "      <th></th>\n",
       "      <th></th>\n",
       "      <th></th>\n",
       "      <th></th>\n",
       "    </tr>\n",
       "  </thead>\n",
       "  <tbody>\n",
       "    <tr>\n",
       "      <td>1</td>\n",
       "      <td>1.0</td>\n",
       "      <td>5.0</td>\n",
       "      <td>3.0</td>\n",
       "      <td>1.0</td>\n",
       "      <td>5.0</td>\n",
       "      <td>1.0</td>\n",
       "      <td>5.0</td>\n",
       "      <td>1.0</td>\n",
       "      <td>1.0</td>\n",
       "      <td>5.0</td>\n",
       "      <td>...</td>\n",
       "      <td>5.0</td>\n",
       "      <td>1.0</td>\n",
       "      <td>1.0</td>\n",
       "      <td>5.0</td>\n",
       "      <td>1.0</td>\n",
       "      <td>1.0</td>\n",
       "      <td>1.0</td>\n",
       "      <td>5.0</td>\n",
       "      <td>1.0</td>\n",
       "      <td>5.0</td>\n",
       "    </tr>\n",
       "    <tr>\n",
       "      <td>2</td>\n",
       "      <td>4.0</td>\n",
       "      <td>3.0</td>\n",
       "      <td>5.0</td>\n",
       "      <td>3.0</td>\n",
       "      <td>1.0</td>\n",
       "      <td>1.0</td>\n",
       "      <td>2.0</td>\n",
       "      <td>5.0</td>\n",
       "      <td>5.0</td>\n",
       "      <td>1.0</td>\n",
       "      <td>...</td>\n",
       "      <td>1.0</td>\n",
       "      <td>1.0</td>\n",
       "      <td>1.0</td>\n",
       "      <td>2.0</td>\n",
       "      <td>2.0</td>\n",
       "      <td>1.0</td>\n",
       "      <td>4.0</td>\n",
       "      <td>5.0</td>\n",
       "      <td>1.0</td>\n",
       "      <td>1.0</td>\n",
       "    </tr>\n",
       "  </tbody>\n",
       "</table>\n",
       "<p>2 rows × 28 columns</p>\n",
       "</div>"
      ],
      "text/plain": [
       "           ctqq_1  ctqq_2  ctqq_3  ctqq_4  ctqq_5  ctqq_6  ctqq_7  ctqq_8  \\\n",
       "redcap_id                                                                   \n",
       "1             1.0     5.0     3.0     1.0     5.0     1.0     5.0     1.0   \n",
       "2             4.0     3.0     5.0     3.0     1.0     1.0     2.0     5.0   \n",
       "\n",
       "           ctqq_9  ctqq_10  ...  ctqq_19  ctqq_20  ctqq_21  ctqq_22  ctqq_23  \\\n",
       "redcap_id                   ...                                                \n",
       "1             1.0      5.0  ...      5.0      1.0      1.0      5.0      1.0   \n",
       "2             5.0      1.0  ...      1.0      1.0      1.0      2.0      2.0   \n",
       "\n",
       "           ctqq_24  ctqq_25  ctqq_26  ctqq_27  ctqq_28  \n",
       "redcap_id                                               \n",
       "1              1.0      1.0      5.0      1.0      5.0  \n",
       "2              1.0      4.0      5.0      1.0      1.0  \n",
       "\n",
       "[2 rows x 28 columns]"
      ]
     },
     "execution_count": 10,
     "metadata": {},
     "output_type": "execute_result"
    }
   ],
   "source": [
    "ctq_a1_subset_df.head(2)"
   ]
  },
  {
   "cell_type": "code",
   "execution_count": 11,
   "metadata": {
    "ExecuteTime": {
     "end_time": "2019-10-11T15:33:21.706219Z",
     "start_time": "2019-10-11T15:33:21.695863Z"
    }
   },
   "outputs": [
    {
     "data": {
      "text/plain": [
       "(84, 28)"
      ]
     },
     "execution_count": 11,
     "metadata": {},
     "output_type": "execute_result"
    }
   ],
   "source": [
    "# Here the shape shows 84 patients and 28 questions:\n",
    "ctq_a1_subset_df.shape"
   ]
  },
  {
   "cell_type": "markdown",
   "metadata": {},
   "source": [
    "## Replace 99's (no answer) with NaNs:"
   ]
  },
  {
   "cell_type": "code",
   "execution_count": 12,
   "metadata": {
    "ExecuteTime": {
     "end_time": "2019-10-11T15:33:27.153996Z",
     "start_time": "2019-10-11T15:33:27.134680Z"
    }
   },
   "outputs": [],
   "source": [
    "# Pandas replace() method allows us to replace a value or a list of values accross a DataFrame\n",
    "ctq_a1_subset_df = ctq_a1_subset_df.replace(99, np.NaN)"
   ]
  },
  {
   "cell_type": "markdown",
   "metadata": {},
   "source": [
    "## Check if any patient has not filled the questionnaire and remove:"
   ]
  },
  {
   "cell_type": "code",
   "execution_count": 13,
   "metadata": {
    "ExecuteTime": {
     "end_time": "2019-10-11T15:33:32.718244Z",
     "start_time": "2019-10-11T15:33:32.702650Z"
    }
   },
   "outputs": [
    {
     "data": {
      "text/plain": [
       "[7, 29, 35, 63, 64, 69, 78]"
      ]
     },
     "execution_count": 13,
     "metadata": {},
     "output_type": "execute_result"
    }
   ],
   "source": [
    "# Here isnull() returns True if NaN value is present and .all(1) returns True if all values are NaNs for the row\n",
    "ctq_empty_l = ctq_a1_subset_df[ctq_a1_subset_df.isnull().all(1)].index.tolist()\n",
    "ctq_empty_l"
   ]
  },
  {
   "cell_type": "code",
   "execution_count": 14,
   "metadata": {
    "ExecuteTime": {
     "end_time": "2019-10-11T15:33:37.029463Z",
     "start_time": "2019-10-11T15:33:37.026028Z"
    }
   },
   "outputs": [],
   "source": [
    "# drop() is a pandas method for removing rows or columns:\n",
    "ctq_a1_subset_df = ctq_a1_subset_df.drop(ctq_empty_l)"
   ]
  },
  {
   "cell_type": "markdown",
   "metadata": {},
   "source": [
    "## Check if all values are between 1 and 5 and return redcap_ids values that are not:"
   ]
  },
  {
   "cell_type": "code",
   "execution_count": 16,
   "metadata": {
    "ExecuteTime": {
     "end_time": "2019-10-11T15:33:45.053589Z",
     "start_time": "2019-10-11T15:33:45.047730Z"
    }
   },
   "outputs": [
    {
     "data": {
      "text/plain": [
       "[1.0, 2.0, 3.0, 4.0, 5.0, 6.0]"
      ]
     },
     "execution_count": 16,
     "metadata": {},
     "output_type": "execute_result"
    }
   ],
   "source": [
    "# Numpy's unique() method returns onyl unique occurences of values within the DataFrame\n",
    "# Here I also make sure it is not a NaN value\n",
    "[x for x in np.unique(ctq_a1_subset_df) if not np.isnan(x)]"
   ]
  },
  {
   "cell_type": "code",
   "execution_count": 18,
   "metadata": {
    "ExecuteTime": {
     "end_time": "2019-10-11T15:34:21.699025Z",
     "start_time": "2019-10-11T15:34:21.670808Z"
    }
   },
   "outputs": [
    {
     "data": {
      "text/plain": [
       "redcap_id\n",
       "21    True\n",
       "23    True\n",
       "41    True\n",
       "dtype: bool"
      ]
     },
     "execution_count": 18,
     "metadata": {},
     "output_type": "execute_result"
    }
   ],
   "source": [
    "out_of_bounds_bool_s = ctq_a1_subset_df[~((ctq_a1_subset_df >= 1) & (ctq_a1_subset_df <= 5))].T.any()\n",
    "out_of_bounds_bool_s[out_of_bounds_bool_s]"
   ]
  },
  {
   "cell_type": "markdown",
   "metadata": {},
   "source": [
    "## Get Total Subscales Scores per Patient DataFrame and save to file:"
   ]
  },
  {
   "cell_type": "code",
   "execution_count": 19,
   "metadata": {
    "ExecuteTime": {
     "end_time": "2019-10-11T15:34:28.791874Z",
     "start_time": "2019-10-11T15:34:28.778700Z"
    }
   },
   "outputs": [],
   "source": [
    "# Here I create a dictionary of subscales titles (keys) with as (values) lists of the question numbers \n",
    "# corresponding to a subscale\n",
    "\n",
    "# Name subscales and assign respective question ids:\n",
    "subscales_d = {\"emotional_abuse\": [3,8,14,18,25], \"physical_abuse\": [9,11,12,15,17],\n",
    "            \"sexual_abuse\": [20,21,23,24,27], \"emotional_neglect\": [5,7,13,19,28],\n",
    "            \"physical_neglect\": [1,2,4,6,26], \"minimization_denial\": [10,16,22]}\n",
    "\n",
    "# Add ctqq_ string to front of question number since these are the column values of the ctq_maws_a1_subset_df DataFrame\n",
    "# I only wrote this for loop because I was too lazy to manually add \"ctqq_\" in front of the question numbers.\n",
    "for key, value in subscales_d.items():\n",
    "    subscales_d[key] = [\"ctqq_\" + str(i) for i in value]"
   ]
  },
  {
   "cell_type": "markdown",
   "metadata": {},
   "source": [
    "### Get and reverse reverse coded questions:"
   ]
  },
  {
   "cell_type": "code",
   "execution_count": 20,
   "metadata": {
    "ExecuteTime": {
     "end_time": "2019-10-11T15:34:29.827365Z",
     "start_time": "2019-10-11T15:34:29.818530Z"
    }
   },
   "outputs": [],
   "source": [
    "def reverse_score(x):\n",
    "    \"\"\"\n",
    "    Function to reverse-code scores using indexes from list below:\n",
    "    \n",
    "    In this function I emplouy a little trick using python's list indexing that uses the index of the list\n",
    "    to return the opposite number of the one supplied to the function (x).\n",
    "    Let's say x=2, the list value at index -2 is 4! This works for all values of x between 1-5\n",
    "    \"\"\"\n",
    "    score_values_l = [1,2,3,4,5]\n",
    "    \n",
    "    if not np.isnan(x):\n",
    "    \n",
    "        try:\n",
    "            return score_values_l[-int(x)]\n",
    "        except IndexError:\n",
    "            print(x)"
   ]
  },
  {
   "cell_type": "code",
   "execution_count": 21,
   "metadata": {
    "ExecuteTime": {
     "end_time": "2019-10-11T15:34:31.455201Z",
     "start_time": "2019-10-11T15:34:31.447930Z"
    }
   },
   "outputs": [],
   "source": [
    "# Here I enumerate and append 'ctqq' to the reverse coded questions\n",
    "reverse_coded_questions_l = [5,7,13,19,28,2,26]\n",
    "reverse_l = [\"ctqq_\" + str(i) for i in reverse_coded_questions_l]"
   ]
  },
  {
   "cell_type": "code",
   "execution_count": 22,
   "metadata": {
    "ExecuteTime": {
     "end_time": "2019-10-11T15:34:38.132085Z",
     "start_time": "2019-10-11T15:34:38.102079Z"
    }
   },
   "outputs": [
    {
     "name": "stdout",
     "output_type": "stream",
     "text": [
      "6.0\n"
     ]
    }
   ],
   "source": [
    "# applymap is a pandas method to applyt a function to all values of a DataFrame\n",
    "# Here however it is only applied to the values of columns in the 'rever_l' list created above\n",
    "ctq_a1_subset_df[reverse_l] = ctq_a1_subset_df[reverse_l].copy().applymap(reverse_score)"
   ]
  },
  {
   "cell_type": "code",
   "execution_count": 23,
   "metadata": {
    "ExecuteTime": {
     "end_time": "2019-10-11T15:34:50.160632Z",
     "start_time": "2019-10-11T15:34:50.075077Z"
    }
   },
   "outputs": [],
   "source": [
    "# Total scores are computed in new DataFrame here by taking:\n",
    "# equation 1: ( sum of scores in subscale / ( amount of questions in subscale - unanswered questions(NaN) ) )\n",
    "\n",
    "# Here I generate a new DataFrame (total_scores_df) with the same index as the ctq_a1_subset_df DataFrame\n",
    "total_scores_df = pd.DataFrame(pd.DataFrame(index=ctq_a1_subset_df.index))\n",
    "\n",
    "# For loop across keys of the subscales_d dictionary, key will therefore be the name of a subscales\n",
    "# which we will use to create the columns in the new DataFrame\n",
    "for key in subscales_d.keys():\n",
    "    # See equation 1 above\n",
    "    total_scores_df[key+\"_prorated\"] = ctq_a1_subset_df[subscales_d[key]].sum(axis=1)/(len(ctq_a1_subset_df[subscales_d[key]].columns)-ctq_a1_subset_df[subscales_d[key]].isnull().sum(axis=1))\n",
    "    # Simply takes the sum of a row in columns of subscale questions only with pandas's sum() method\n",
    "    total_scores_df[key+\"_sum\"] = ctq_a1_subset_df[subscales_d[key]].sum(axis=1)\n",
    "    # Check if a row contains any NaNs in columns of subscale questions only\n",
    "    total_scores_df[key+\"_contains_nan\"] = ctq_a1_subset_df[subscales_d[key]].isnull().any(axis=1)\n",
    "    # Count the occurences of those NaNs\n",
    "    total_scores_df[key+\"_nan_counts\"] = ctq_a1_subset_df[subscales_d[key]].isnull().sum(axis=1)\n",
    "    \n",
    "# Check if a row contains any NaNS\n",
    "total_scores_df[\"contains_nan\"] = ctq_a1_subset_df.isnull().any(axis=1)\n"
   ]
  },
  {
   "cell_type": "markdown",
   "metadata": {},
   "source": [
    "## HERE is a great example of programming's rule n.2: Never repeat yourself!"
   ]
  },
  {
   "cell_type": "code",
   "execution_count": 24,
   "metadata": {
    "ExecuteTime": {
     "end_time": "2019-10-11T15:34:55.927647Z",
     "start_time": "2019-10-11T15:34:55.913569Z"
    }
   },
   "outputs": [],
   "source": [
    "# GOOD PROGRAMMING:\n",
    "def return_custom_rank_value(score_sum, low_non, high_non, low_low, high_low, low_mod, high_mod, low_hig):\n",
    "    if score_sum >= low_non and score_sum <= high_non:\n",
    "        rank = \"None\"\n",
    "    elif score_sum >= low_low and score_sum <= high_low:\n",
    "        rank = \"Low\"\n",
    "    elif score_sum >= low_mod and score_sum <= high_mod:\n",
    "        rank = \"Moderate\"\n",
    "    elif score_sum >= low_hig:\n",
    "        rank = \"High\"\n",
    "    else:\n",
    "        rank = np.nan\n",
    "    \n",
    "    return rank\n",
    "\n",
    "# Add rank columns\n",
    "def assign_rank(row):\n",
    "    emotional_abuse_rank = return_custom_rank_value(row.emotional_abuse_sum, 5, 8, 9, 12, 13, 15, 16)\n",
    "    physical_abuse_rank = return_custom_rank_value(row.physical_abuse_sum, 5, 7, 8, 9, 10, 12, 12)\n",
    "    sexual_abuse_rank = return_custom_rank_value(row.sexual_abuse_sum, 5, 5, 6, 7, 8, 12, 13)\n",
    "    emotional_neglect_rank = return_custom_rank_value(row.emotional_neglect_sum, 5, 9, 10, 14, 15, 17, 18)\n",
    "    physical_neglect_rank = return_custom_rank_value(row.physical_neglect_sum, 5, 7, 8, 9, 10, 12, 13)\n",
    "    \n",
    "    return pd.Series((emotional_abuse_rank, physical_abuse_rank, sexual_abuse_rank, \n",
    "                      emotional_neglect_rank, physical_neglect_rank))"
   ]
  },
  {
   "cell_type": "code",
   "execution_count": 25,
   "metadata": {
    "ExecuteTime": {
     "end_time": "2019-10-11T15:34:57.987368Z",
     "start_time": "2019-10-11T15:34:57.979438Z"
    }
   },
   "outputs": [],
   "source": [
    "# BAD PROGRAMMING:\n",
    "# Add rank columns\n",
    "# def assign_rank(row):\n",
    "#     score_sum = row.emotional_abuse_sum\n",
    "#     if score_sum >= 5 and score_sum <= 8:\n",
    "#         emotional_abuse_rank = \"None\"\n",
    "#     elif score_sum >= 9 and score_sum <= 12:\n",
    "#         emotional_abuse_rank = \"Low\"\n",
    "#     elif score_sum >= 13 and score_sum <= 15:\n",
    "#         emotional_abuse_rank = \"Moderate\"\n",
    "#     elif score_sum >= 16:\n",
    "#         emotional_abuse_rank = \"High\"\n",
    "#     else:\n",
    "#         emotional_abuse_rank = np.nan\n",
    "            \n",
    "#     score_sum = row.physical_abuse_sum\n",
    "#     if score_sum >= 5 and score_sum <= 7:\n",
    "#         physical_abuse_rank = \"None\"\n",
    "#     elif score_sum >= 8 and score_sum <= 9:\n",
    "#         physical_abuse_rank = \"Low\"\n",
    "#     elif score_sum >= 10 and score_sum <= 12:\n",
    "#         physical_abuse_rank = \"Moderate\"\n",
    "#     elif score_sum >= 13:\n",
    "#         physical_abuse_rank = \"High\"\n",
    "#     else:\n",
    "#         physical_abuse_rank = np.nan\n",
    "            \n",
    "#     score_sum = row.sexual_abuse_sum\n",
    "#     if score_sum == 5:\n",
    "#         sexual_abuse_rank = \"None\"\n",
    "#     elif score_sum >= 6 and score_sum <= 7:\n",
    "#         sexual_abuse_rank = \"Low\"\n",
    "#     elif score_sum >= 8 and score_sum <= 12:\n",
    "#         sexual_abuse_rank = \"Moderate\"\n",
    "#     elif score_sum >= 13:\n",
    "#         sexual_abuse_rank = \"High\"\n",
    "#     else:\n",
    "#         sexual_abuse_rank = np.nan\n",
    "            \n",
    "#     score_sum = row.emotional_neglect_sum\n",
    "#     if score_sum >= 5 and score_sum <= 9:\n",
    "#         emotional_neglect_rank = \"None\"\n",
    "#     elif score_sum >= 10 and score_sum <= 14:\n",
    "#         emotional_neglect_rank = \"Low\"\n",
    "#     elif score_sum >= 15 and score_sum <= 17:\n",
    "#         emotional_neglect_rank = \"Moderate\"\n",
    "#     elif score_sum >= 18:\n",
    "#         emotional_neglect_rank = \"High\"\n",
    "#     else:\n",
    "#         emotional_neglect_rank = np.nan\n",
    "            \n",
    "#     score_sum = row.physical_neglect_sum\n",
    "#     if score_sum >= 5 and score_sum <= 7:\n",
    "#         physical_neglect_rank = \"None\"\n",
    "#     elif score_sum >= 8 and score_sum <= 9:\n",
    "#         physical_neglect_rank = \"Low\"\n",
    "#     elif score_sum >= 10 and score_sum <= 12:\n",
    "#         physical_neglect_rank = \"Moderate\"\n",
    "#     elif score_sum >= 13:\n",
    "#         physical_neglect_rank = \"High\"\n",
    "#     else:\n",
    "#         physical_neglect_rank = np.nan\n",
    "        \n",
    "#     return pd.Series((emotional_abuse_rank, physical_abuse_rank, sexual_abuse_rank, \n",
    "#                       emotional_neglect_rank, physical_neglect_rank))"
   ]
  },
  {
   "cell_type": "code",
   "execution_count": 26,
   "metadata": {
    "ExecuteTime": {
     "end_time": "2019-10-11T15:35:00.552322Z",
     "start_time": "2019-10-11T15:35:00.506368Z"
    }
   },
   "outputs": [],
   "source": [
    "total_scores_df[['emotional_abuse_rank', 'physical_abuse_rank', 'sexual_abuse_rank', \n",
    "                 'emotional_neglect_rank', 'physical_neglect_rank']] = total_scores_df.apply(assign_rank, axis=1)"
   ]
  },
  {
   "cell_type": "code",
   "execution_count": 27,
   "metadata": {
    "ExecuteTime": {
     "end_time": "2019-10-11T15:35:00.797498Z",
     "start_time": "2019-10-11T15:35:00.773524Z"
    }
   },
   "outputs": [],
   "source": [
    "total_scores_df = total_scores_df.reindex(sorted(total_scores_df.columns), axis=1)"
   ]
  },
  {
   "cell_type": "code",
   "execution_count": 28,
   "metadata": {
    "ExecuteTime": {
     "end_time": "2019-10-11T15:35:01.035204Z",
     "start_time": "2019-10-11T15:35:00.943060Z"
    }
   },
   "outputs": [
    {
     "data": {
      "text/html": [
       "<div>\n",
       "<style scoped>\n",
       "    .dataframe tbody tr th:only-of-type {\n",
       "        vertical-align: middle;\n",
       "    }\n",
       "\n",
       "    .dataframe tbody tr th {\n",
       "        vertical-align: top;\n",
       "    }\n",
       "\n",
       "    .dataframe thead th {\n",
       "        text-align: right;\n",
       "    }\n",
       "</style>\n",
       "<table border=\"1\" class=\"dataframe\">\n",
       "  <thead>\n",
       "    <tr style=\"text-align: right;\">\n",
       "      <th></th>\n",
       "      <th>contains_nan</th>\n",
       "      <th>emotional_abuse_contains_nan</th>\n",
       "      <th>emotional_abuse_nan_counts</th>\n",
       "      <th>emotional_abuse_prorated</th>\n",
       "      <th>emotional_abuse_rank</th>\n",
       "      <th>emotional_abuse_sum</th>\n",
       "      <th>emotional_neglect_contains_nan</th>\n",
       "      <th>emotional_neglect_nan_counts</th>\n",
       "      <th>emotional_neglect_prorated</th>\n",
       "      <th>emotional_neglect_rank</th>\n",
       "      <th>...</th>\n",
       "      <th>physical_neglect_contains_nan</th>\n",
       "      <th>physical_neglect_nan_counts</th>\n",
       "      <th>physical_neglect_prorated</th>\n",
       "      <th>physical_neglect_rank</th>\n",
       "      <th>physical_neglect_sum</th>\n",
       "      <th>sexual_abuse_contains_nan</th>\n",
       "      <th>sexual_abuse_nan_counts</th>\n",
       "      <th>sexual_abuse_prorated</th>\n",
       "      <th>sexual_abuse_rank</th>\n",
       "      <th>sexual_abuse_sum</th>\n",
       "    </tr>\n",
       "    <tr>\n",
       "      <th>redcap_id</th>\n",
       "      <th></th>\n",
       "      <th></th>\n",
       "      <th></th>\n",
       "      <th></th>\n",
       "      <th></th>\n",
       "      <th></th>\n",
       "      <th></th>\n",
       "      <th></th>\n",
       "      <th></th>\n",
       "      <th></th>\n",
       "      <th></th>\n",
       "      <th></th>\n",
       "      <th></th>\n",
       "      <th></th>\n",
       "      <th></th>\n",
       "      <th></th>\n",
       "      <th></th>\n",
       "      <th></th>\n",
       "      <th></th>\n",
       "      <th></th>\n",
       "      <th></th>\n",
       "    </tr>\n",
       "  </thead>\n",
       "  <tbody>\n",
       "    <tr>\n",
       "      <td>1</td>\n",
       "      <td>False</td>\n",
       "      <td>False</td>\n",
       "      <td>0</td>\n",
       "      <td>2.2</td>\n",
       "      <td>Low</td>\n",
       "      <td>11.0</td>\n",
       "      <td>False</td>\n",
       "      <td>0</td>\n",
       "      <td>1.0</td>\n",
       "      <td>None</td>\n",
       "      <td>...</td>\n",
       "      <td>False</td>\n",
       "      <td>0</td>\n",
       "      <td>1.0</td>\n",
       "      <td>None</td>\n",
       "      <td>5.0</td>\n",
       "      <td>False</td>\n",
       "      <td>0</td>\n",
       "      <td>1.0</td>\n",
       "      <td>None</td>\n",
       "      <td>5.0</td>\n",
       "    </tr>\n",
       "    <tr>\n",
       "      <td>2</td>\n",
       "      <td>False</td>\n",
       "      <td>False</td>\n",
       "      <td>0</td>\n",
       "      <td>4.8</td>\n",
       "      <td>High</td>\n",
       "      <td>24.0</td>\n",
       "      <td>False</td>\n",
       "      <td>0</td>\n",
       "      <td>4.8</td>\n",
       "      <td>High</td>\n",
       "      <td>...</td>\n",
       "      <td>False</td>\n",
       "      <td>0</td>\n",
       "      <td>2.4</td>\n",
       "      <td>Moderate</td>\n",
       "      <td>12.0</td>\n",
       "      <td>False</td>\n",
       "      <td>0</td>\n",
       "      <td>1.2</td>\n",
       "      <td>Low</td>\n",
       "      <td>6.0</td>\n",
       "    </tr>\n",
       "    <tr>\n",
       "      <td>3</td>\n",
       "      <td>False</td>\n",
       "      <td>False</td>\n",
       "      <td>0</td>\n",
       "      <td>1.0</td>\n",
       "      <td>None</td>\n",
       "      <td>5.0</td>\n",
       "      <td>False</td>\n",
       "      <td>0</td>\n",
       "      <td>4.2</td>\n",
       "      <td>High</td>\n",
       "      <td>...</td>\n",
       "      <td>False</td>\n",
       "      <td>0</td>\n",
       "      <td>3.0</td>\n",
       "      <td>High</td>\n",
       "      <td>15.0</td>\n",
       "      <td>False</td>\n",
       "      <td>0</td>\n",
       "      <td>1.2</td>\n",
       "      <td>Low</td>\n",
       "      <td>6.0</td>\n",
       "    </tr>\n",
       "    <tr>\n",
       "      <td>4</td>\n",
       "      <td>False</td>\n",
       "      <td>False</td>\n",
       "      <td>0</td>\n",
       "      <td>1.0</td>\n",
       "      <td>None</td>\n",
       "      <td>5.0</td>\n",
       "      <td>False</td>\n",
       "      <td>0</td>\n",
       "      <td>2.8</td>\n",
       "      <td>Low</td>\n",
       "      <td>...</td>\n",
       "      <td>False</td>\n",
       "      <td>0</td>\n",
       "      <td>1.2</td>\n",
       "      <td>None</td>\n",
       "      <td>6.0</td>\n",
       "      <td>False</td>\n",
       "      <td>0</td>\n",
       "      <td>1.2</td>\n",
       "      <td>Low</td>\n",
       "      <td>6.0</td>\n",
       "    </tr>\n",
       "    <tr>\n",
       "      <td>5</td>\n",
       "      <td>False</td>\n",
       "      <td>False</td>\n",
       "      <td>0</td>\n",
       "      <td>1.0</td>\n",
       "      <td>None</td>\n",
       "      <td>5.0</td>\n",
       "      <td>False</td>\n",
       "      <td>0</td>\n",
       "      <td>1.0</td>\n",
       "      <td>None</td>\n",
       "      <td>...</td>\n",
       "      <td>False</td>\n",
       "      <td>0</td>\n",
       "      <td>1.0</td>\n",
       "      <td>None</td>\n",
       "      <td>5.0</td>\n",
       "      <td>False</td>\n",
       "      <td>0</td>\n",
       "      <td>1.0</td>\n",
       "      <td>None</td>\n",
       "      <td>5.0</td>\n",
       "    </tr>\n",
       "    <tr>\n",
       "      <td>...</td>\n",
       "      <td>...</td>\n",
       "      <td>...</td>\n",
       "      <td>...</td>\n",
       "      <td>...</td>\n",
       "      <td>...</td>\n",
       "      <td>...</td>\n",
       "      <td>...</td>\n",
       "      <td>...</td>\n",
       "      <td>...</td>\n",
       "      <td>...</td>\n",
       "      <td>...</td>\n",
       "      <td>...</td>\n",
       "      <td>...</td>\n",
       "      <td>...</td>\n",
       "      <td>...</td>\n",
       "      <td>...</td>\n",
       "      <td>...</td>\n",
       "      <td>...</td>\n",
       "      <td>...</td>\n",
       "      <td>...</td>\n",
       "      <td>...</td>\n",
       "    </tr>\n",
       "    <tr>\n",
       "      <td>80</td>\n",
       "      <td>False</td>\n",
       "      <td>False</td>\n",
       "      <td>0</td>\n",
       "      <td>1.6</td>\n",
       "      <td>None</td>\n",
       "      <td>8.0</td>\n",
       "      <td>False</td>\n",
       "      <td>0</td>\n",
       "      <td>2.2</td>\n",
       "      <td>Low</td>\n",
       "      <td>...</td>\n",
       "      <td>False</td>\n",
       "      <td>0</td>\n",
       "      <td>1.2</td>\n",
       "      <td>None</td>\n",
       "      <td>6.0</td>\n",
       "      <td>False</td>\n",
       "      <td>0</td>\n",
       "      <td>1.0</td>\n",
       "      <td>None</td>\n",
       "      <td>5.0</td>\n",
       "    </tr>\n",
       "    <tr>\n",
       "      <td>81</td>\n",
       "      <td>False</td>\n",
       "      <td>False</td>\n",
       "      <td>0</td>\n",
       "      <td>1.6</td>\n",
       "      <td>None</td>\n",
       "      <td>8.0</td>\n",
       "      <td>False</td>\n",
       "      <td>0</td>\n",
       "      <td>3.0</td>\n",
       "      <td>Moderate</td>\n",
       "      <td>...</td>\n",
       "      <td>False</td>\n",
       "      <td>0</td>\n",
       "      <td>1.2</td>\n",
       "      <td>None</td>\n",
       "      <td>6.0</td>\n",
       "      <td>False</td>\n",
       "      <td>0</td>\n",
       "      <td>1.0</td>\n",
       "      <td>None</td>\n",
       "      <td>5.0</td>\n",
       "    </tr>\n",
       "    <tr>\n",
       "      <td>82</td>\n",
       "      <td>False</td>\n",
       "      <td>False</td>\n",
       "      <td>0</td>\n",
       "      <td>3.4</td>\n",
       "      <td>High</td>\n",
       "      <td>17.0</td>\n",
       "      <td>False</td>\n",
       "      <td>0</td>\n",
       "      <td>2.4</td>\n",
       "      <td>Low</td>\n",
       "      <td>...</td>\n",
       "      <td>False</td>\n",
       "      <td>0</td>\n",
       "      <td>1.0</td>\n",
       "      <td>None</td>\n",
       "      <td>5.0</td>\n",
       "      <td>False</td>\n",
       "      <td>0</td>\n",
       "      <td>2.0</td>\n",
       "      <td>Moderate</td>\n",
       "      <td>10.0</td>\n",
       "    </tr>\n",
       "    <tr>\n",
       "      <td>83</td>\n",
       "      <td>False</td>\n",
       "      <td>False</td>\n",
       "      <td>0</td>\n",
       "      <td>1.2</td>\n",
       "      <td>None</td>\n",
       "      <td>6.0</td>\n",
       "      <td>False</td>\n",
       "      <td>0</td>\n",
       "      <td>2.4</td>\n",
       "      <td>Low</td>\n",
       "      <td>...</td>\n",
       "      <td>False</td>\n",
       "      <td>0</td>\n",
       "      <td>1.0</td>\n",
       "      <td>None</td>\n",
       "      <td>5.0</td>\n",
       "      <td>False</td>\n",
       "      <td>0</td>\n",
       "      <td>1.0</td>\n",
       "      <td>None</td>\n",
       "      <td>5.0</td>\n",
       "    </tr>\n",
       "    <tr>\n",
       "      <td>84</td>\n",
       "      <td>False</td>\n",
       "      <td>False</td>\n",
       "      <td>0</td>\n",
       "      <td>1.2</td>\n",
       "      <td>None</td>\n",
       "      <td>6.0</td>\n",
       "      <td>False</td>\n",
       "      <td>0</td>\n",
       "      <td>3.8</td>\n",
       "      <td>High</td>\n",
       "      <td>...</td>\n",
       "      <td>False</td>\n",
       "      <td>0</td>\n",
       "      <td>2.6</td>\n",
       "      <td>High</td>\n",
       "      <td>13.0</td>\n",
       "      <td>False</td>\n",
       "      <td>0</td>\n",
       "      <td>1.8</td>\n",
       "      <td>Moderate</td>\n",
       "      <td>9.0</td>\n",
       "    </tr>\n",
       "  </tbody>\n",
       "</table>\n",
       "<p>77 rows × 30 columns</p>\n",
       "</div>"
      ],
      "text/plain": [
       "           contains_nan  emotional_abuse_contains_nan  \\\n",
       "redcap_id                                               \n",
       "1                 False                         False   \n",
       "2                 False                         False   \n",
       "3                 False                         False   \n",
       "4                 False                         False   \n",
       "5                 False                         False   \n",
       "...                 ...                           ...   \n",
       "80                False                         False   \n",
       "81                False                         False   \n",
       "82                False                         False   \n",
       "83                False                         False   \n",
       "84                False                         False   \n",
       "\n",
       "           emotional_abuse_nan_counts  emotional_abuse_prorated  \\\n",
       "redcap_id                                                         \n",
       "1                                   0                       2.2   \n",
       "2                                   0                       4.8   \n",
       "3                                   0                       1.0   \n",
       "4                                   0                       1.0   \n",
       "5                                   0                       1.0   \n",
       "...                               ...                       ...   \n",
       "80                                  0                       1.6   \n",
       "81                                  0                       1.6   \n",
       "82                                  0                       3.4   \n",
       "83                                  0                       1.2   \n",
       "84                                  0                       1.2   \n",
       "\n",
       "          emotional_abuse_rank  emotional_abuse_sum  \\\n",
       "redcap_id                                             \n",
       "1                          Low                 11.0   \n",
       "2                         High                 24.0   \n",
       "3                         None                  5.0   \n",
       "4                         None                  5.0   \n",
       "5                         None                  5.0   \n",
       "...                        ...                  ...   \n",
       "80                        None                  8.0   \n",
       "81                        None                  8.0   \n",
       "82                        High                 17.0   \n",
       "83                        None                  6.0   \n",
       "84                        None                  6.0   \n",
       "\n",
       "           emotional_neglect_contains_nan  emotional_neglect_nan_counts  \\\n",
       "redcap_id                                                                 \n",
       "1                                   False                             0   \n",
       "2                                   False                             0   \n",
       "3                                   False                             0   \n",
       "4                                   False                             0   \n",
       "5                                   False                             0   \n",
       "...                                   ...                           ...   \n",
       "80                                  False                             0   \n",
       "81                                  False                             0   \n",
       "82                                  False                             0   \n",
       "83                                  False                             0   \n",
       "84                                  False                             0   \n",
       "\n",
       "           emotional_neglect_prorated emotional_neglect_rank  ...  \\\n",
       "redcap_id                                                     ...   \n",
       "1                                 1.0                   None  ...   \n",
       "2                                 4.8                   High  ...   \n",
       "3                                 4.2                   High  ...   \n",
       "4                                 2.8                    Low  ...   \n",
       "5                                 1.0                   None  ...   \n",
       "...                               ...                    ...  ...   \n",
       "80                                2.2                    Low  ...   \n",
       "81                                3.0               Moderate  ...   \n",
       "82                                2.4                    Low  ...   \n",
       "83                                2.4                    Low  ...   \n",
       "84                                3.8                   High  ...   \n",
       "\n",
       "           physical_neglect_contains_nan  physical_neglect_nan_counts  \\\n",
       "redcap_id                                                               \n",
       "1                                  False                            0   \n",
       "2                                  False                            0   \n",
       "3                                  False                            0   \n",
       "4                                  False                            0   \n",
       "5                                  False                            0   \n",
       "...                                  ...                          ...   \n",
       "80                                 False                            0   \n",
       "81                                 False                            0   \n",
       "82                                 False                            0   \n",
       "83                                 False                            0   \n",
       "84                                 False                            0   \n",
       "\n",
       "           physical_neglect_prorated  physical_neglect_rank  \\\n",
       "redcap_id                                                     \n",
       "1                                1.0                   None   \n",
       "2                                2.4               Moderate   \n",
       "3                                3.0                   High   \n",
       "4                                1.2                   None   \n",
       "5                                1.0                   None   \n",
       "...                              ...                    ...   \n",
       "80                               1.2                   None   \n",
       "81                               1.2                   None   \n",
       "82                               1.0                   None   \n",
       "83                               1.0                   None   \n",
       "84                               2.6                   High   \n",
       "\n",
       "           physical_neglect_sum  sexual_abuse_contains_nan  \\\n",
       "redcap_id                                                    \n",
       "1                           5.0                      False   \n",
       "2                          12.0                      False   \n",
       "3                          15.0                      False   \n",
       "4                           6.0                      False   \n",
       "5                           5.0                      False   \n",
       "...                         ...                        ...   \n",
       "80                          6.0                      False   \n",
       "81                          6.0                      False   \n",
       "82                          5.0                      False   \n",
       "83                          5.0                      False   \n",
       "84                         13.0                      False   \n",
       "\n",
       "           sexual_abuse_nan_counts  sexual_abuse_prorated sexual_abuse_rank  \\\n",
       "redcap_id                                                                     \n",
       "1                                0                    1.0              None   \n",
       "2                                0                    1.2               Low   \n",
       "3                                0                    1.2               Low   \n",
       "4                                0                    1.2               Low   \n",
       "5                                0                    1.0              None   \n",
       "...                            ...                    ...               ...   \n",
       "80                               0                    1.0              None   \n",
       "81                               0                    1.0              None   \n",
       "82                               0                    2.0          Moderate   \n",
       "83                               0                    1.0              None   \n",
       "84                               0                    1.8          Moderate   \n",
       "\n",
       "           sexual_abuse_sum  \n",
       "redcap_id                    \n",
       "1                       5.0  \n",
       "2                       6.0  \n",
       "3                       6.0  \n",
       "4                       6.0  \n",
       "5                       5.0  \n",
       "...                     ...  \n",
       "80                      5.0  \n",
       "81                      5.0  \n",
       "82                     10.0  \n",
       "83                      5.0  \n",
       "84                      9.0  \n",
       "\n",
       "[77 rows x 30 columns]"
      ]
     },
     "execution_count": 28,
     "metadata": {},
     "output_type": "execute_result"
    }
   ],
   "source": [
    "total_scores_df.round(1)"
   ]
  },
  {
   "cell_type": "markdown",
   "metadata": {},
   "source": [
    "### Save dataframe to csv file:"
   ]
  },
  {
   "cell_type": "code",
   "execution_count": 30,
   "metadata": {
    "ExecuteTime": {
     "end_time": "2019-10-11T15:35:08.280845Z",
     "start_time": "2019-10-11T15:35:08.252579Z"
    }
   },
   "outputs": [],
   "source": [
    "total_scores_df.round(1).to_csv(\"../data/CTQ_total_subscale_scores_ALL.csv\")"
   ]
  },
  {
   "cell_type": "markdown",
   "metadata": {},
   "source": [
    "# Plotting Examples:"
   ]
  },
  {
   "cell_type": "markdown",
   "metadata": {},
   "source": [
    "## Missing values:"
   ]
  },
  {
   "cell_type": "code",
   "execution_count": 34,
   "metadata": {
    "ExecuteTime": {
     "end_time": "2019-10-11T15:35:30.640569Z",
     "start_time": "2019-10-11T15:35:30.631185Z"
    }
   },
   "outputs": [],
   "source": [
    "total_scores_missing_df = total_scores_df[[col for col in total_scores_df if col.endswith('contains_nan')]]"
   ]
  },
  {
   "cell_type": "code",
   "execution_count": 35,
   "metadata": {
    "ExecuteTime": {
     "end_time": "2019-10-11T15:35:30.789686Z",
     "start_time": "2019-10-11T15:35:30.780352Z"
    }
   },
   "outputs": [],
   "source": [
    "total_scores_missing_df = total_scores_missing_df[(total_scores_missing_df.contains_nan == True)].sum(axis=1)"
   ]
  },
  {
   "cell_type": "code",
   "execution_count": 36,
   "metadata": {
    "ExecuteTime": {
     "end_time": "2019-10-11T15:35:31.124017Z",
     "start_time": "2019-10-11T15:35:30.917828Z"
    }
   },
   "outputs": [
    {
     "data": {
      "text/plain": [
       "<matplotlib.axes._subplots.AxesSubplot at 0x7f8e714bb450>"
      ]
     },
     "execution_count": 36,
     "metadata": {},
     "output_type": "execute_result"
    },
    {
     "data": {
      "image/png": "[encoded data removed]",
      "text/plain": [
       "<Figure size 432x288 with 1 Axes>"
      ]
     },
     "metadata": {
      "needs_background": "light"
     },
     "output_type": "display_data"
    }
   ],
   "source": [
    "total_scores_missing_df.plot.bar()"
   ]
  },
  {
   "cell_type": "markdown",
   "metadata": {},
   "source": [
    "## Plotting"
   ]
  },
  {
   "cell_type": "markdown",
   "metadata": {},
   "source": [
    "### Keep only columns with prorated data:"
   ]
  },
  {
   "cell_type": "code",
   "execution_count": 37,
   "metadata": {
    "ExecuteTime": {
     "end_time": "2019-10-11T15:35:34.944816Z",
     "start_time": "2019-10-11T15:35:34.932093Z"
    }
   },
   "outputs": [],
   "source": [
    "total_scores_prorated_df = total_scores_df[[col for col in total_scores_df if col.endswith('prorated')]]"
   ]
  },
  {
   "cell_type": "code",
   "execution_count": 38,
   "metadata": {
    "ExecuteTime": {
     "end_time": "2019-10-11T15:35:35.378309Z",
     "start_time": "2019-10-11T15:35:35.327083Z"
    }
   },
   "outputs": [
    {
     "data": {
      "text/html": [
       "<div>\n",
       "<style scoped>\n",
       "    .dataframe tbody tr th:only-of-type {\n",
       "        vertical-align: middle;\n",
       "    }\n",
       "\n",
       "    .dataframe tbody tr th {\n",
       "        vertical-align: top;\n",
       "    }\n",
       "\n",
       "    .dataframe thead th {\n",
       "        text-align: right;\n",
       "    }\n",
       "</style>\n",
       "<table border=\"1\" class=\"dataframe\">\n",
       "  <thead>\n",
       "    <tr style=\"text-align: right;\">\n",
       "      <th></th>\n",
       "      <th>emotional_abuse_prorated</th>\n",
       "      <th>emotional_neglect_prorated</th>\n",
       "      <th>minimization_denial_prorated</th>\n",
       "      <th>physical_abuse_prorated</th>\n",
       "      <th>physical_neglect_prorated</th>\n",
       "      <th>sexual_abuse_prorated</th>\n",
       "    </tr>\n",
       "    <tr>\n",
       "      <th>redcap_id</th>\n",
       "      <th></th>\n",
       "      <th></th>\n",
       "      <th></th>\n",
       "      <th></th>\n",
       "      <th></th>\n",
       "      <th></th>\n",
       "    </tr>\n",
       "  </thead>\n",
       "  <tbody>\n",
       "    <tr>\n",
       "      <td>1</td>\n",
       "      <td>2.2</td>\n",
       "      <td>1.0</td>\n",
       "      <td>4.000000</td>\n",
       "      <td>1.6</td>\n",
       "      <td>1.0</td>\n",
       "      <td>1.0</td>\n",
       "    </tr>\n",
       "    <tr>\n",
       "      <td>2</td>\n",
       "      <td>4.8</td>\n",
       "      <td>4.8</td>\n",
       "      <td>1.333333</td>\n",
       "      <td>4.0</td>\n",
       "      <td>2.4</td>\n",
       "      <td>1.2</td>\n",
       "    </tr>\n",
       "    <tr>\n",
       "      <td>3</td>\n",
       "      <td>1.0</td>\n",
       "      <td>4.2</td>\n",
       "      <td>1.666667</td>\n",
       "      <td>1.0</td>\n",
       "      <td>3.0</td>\n",
       "      <td>1.2</td>\n",
       "    </tr>\n",
       "    <tr>\n",
       "      <td>4</td>\n",
       "      <td>1.0</td>\n",
       "      <td>2.8</td>\n",
       "      <td>3.000000</td>\n",
       "      <td>1.4</td>\n",
       "      <td>1.2</td>\n",
       "      <td>1.2</td>\n",
       "    </tr>\n",
       "    <tr>\n",
       "      <td>5</td>\n",
       "      <td>1.0</td>\n",
       "      <td>1.0</td>\n",
       "      <td>5.000000</td>\n",
       "      <td>1.2</td>\n",
       "      <td>1.0</td>\n",
       "      <td>1.0</td>\n",
       "    </tr>\n",
       "    <tr>\n",
       "      <td>...</td>\n",
       "      <td>...</td>\n",
       "      <td>...</td>\n",
       "      <td>...</td>\n",
       "      <td>...</td>\n",
       "      <td>...</td>\n",
       "      <td>...</td>\n",
       "    </tr>\n",
       "    <tr>\n",
       "      <td>80</td>\n",
       "      <td>1.6</td>\n",
       "      <td>2.2</td>\n",
       "      <td>2.666667</td>\n",
       "      <td>1.0</td>\n",
       "      <td>1.2</td>\n",
       "      <td>1.0</td>\n",
       "    </tr>\n",
       "    <tr>\n",
       "      <td>81</td>\n",
       "      <td>1.6</td>\n",
       "      <td>3.0</td>\n",
       "      <td>3.666667</td>\n",
       "      <td>1.4</td>\n",
       "      <td>1.2</td>\n",
       "      <td>1.0</td>\n",
       "    </tr>\n",
       "    <tr>\n",
       "      <td>82</td>\n",
       "      <td>3.4</td>\n",
       "      <td>2.4</td>\n",
       "      <td>2.000000</td>\n",
       "      <td>3.2</td>\n",
       "      <td>1.0</td>\n",
       "      <td>2.0</td>\n",
       "    </tr>\n",
       "    <tr>\n",
       "      <td>83</td>\n",
       "      <td>1.2</td>\n",
       "      <td>2.4</td>\n",
       "      <td>3.000000</td>\n",
       "      <td>1.0</td>\n",
       "      <td>1.0</td>\n",
       "      <td>1.0</td>\n",
       "    </tr>\n",
       "    <tr>\n",
       "      <td>84</td>\n",
       "      <td>1.2</td>\n",
       "      <td>3.8</td>\n",
       "      <td>2.000000</td>\n",
       "      <td>1.0</td>\n",
       "      <td>2.6</td>\n",
       "      <td>1.8</td>\n",
       "    </tr>\n",
       "  </tbody>\n",
       "</table>\n",
       "<p>77 rows × 6 columns</p>\n",
       "</div>"
      ],
      "text/plain": [
       "           emotional_abuse_prorated  emotional_neglect_prorated  \\\n",
       "redcap_id                                                         \n",
       "1                               2.2                         1.0   \n",
       "2                               4.8                         4.8   \n",
       "3                               1.0                         4.2   \n",
       "4                               1.0                         2.8   \n",
       "5                               1.0                         1.0   \n",
       "...                             ...                         ...   \n",
       "80                              1.6                         2.2   \n",
       "81                              1.6                         3.0   \n",
       "82                              3.4                         2.4   \n",
       "83                              1.2                         2.4   \n",
       "84                              1.2                         3.8   \n",
       "\n",
       "           minimization_denial_prorated  physical_abuse_prorated  \\\n",
       "redcap_id                                                          \n",
       "1                              4.000000                      1.6   \n",
       "2                              1.333333                      4.0   \n",
       "3                              1.666667                      1.0   \n",
       "4                              3.000000                      1.4   \n",
       "5                              5.000000                      1.2   \n",
       "...                                 ...                      ...   \n",
       "80                             2.666667                      1.0   \n",
       "81                             3.666667                      1.4   \n",
       "82                             2.000000                      3.2   \n",
       "83                             3.000000                      1.0   \n",
       "84                             2.000000                      1.0   \n",
       "\n",
       "           physical_neglect_prorated  sexual_abuse_prorated  \n",
       "redcap_id                                                    \n",
       "1                                1.0                    1.0  \n",
       "2                                2.4                    1.2  \n",
       "3                                3.0                    1.2  \n",
       "4                                1.2                    1.2  \n",
       "5                                1.0                    1.0  \n",
       "...                              ...                    ...  \n",
       "80                               1.2                    1.0  \n",
       "81                               1.2                    1.0  \n",
       "82                               1.0                    2.0  \n",
       "83                               1.0                    1.0  \n",
       "84                               2.6                    1.8  \n",
       "\n",
       "[77 rows x 6 columns]"
      ]
     },
     "execution_count": 38,
     "metadata": {},
     "output_type": "execute_result"
    }
   ],
   "source": [
    "total_scores_prorated_df"
   ]
  },
  {
   "cell_type": "code",
   "execution_count": 39,
   "metadata": {
    "ExecuteTime": {
     "end_time": "2019-10-11T15:35:40.616429Z",
     "start_time": "2019-10-11T15:35:38.922086Z"
    }
   },
   "outputs": [
    {
     "data": {
      "text/plain": [
       "<matplotlib.axes._subplots.AxesSubplot at 0x7f8e713e9a10>"
      ]
     },
     "execution_count": 39,
     "metadata": {},
     "output_type": "execute_result"
    },
    {
     "data": {
      "image/png": "[encoded data removed]",
      "text/plain": [
       "<Figure size 1080x720 with 2 Axes>"
      ]
     },
     "metadata": {
      "needs_background": "light"
     },
     "output_type": "display_data"
    }
   ],
   "source": [
    "plt.figure(figsize=(15,10))\n",
    "sns.heatmap(total_scores_prorated_df, annot=True, cmap=\"OrRd\")"
   ]
  }
 ],
 "metadata": {
  "kernelspec": {
   "display_name": "Python 3",
   "language": "python",
   "name": "python3"
  },
  "language_info": {
   "codemirror_mode": {
    "name": "ipython",
    "version": 3
   },
   "file_extension": ".py",
   "mimetype": "text/x-python",
   "name": "python",
   "nbconvert_exporter": "python",
   "pygments_lexer": "ipython3",
   "version": "3.7.4"
  },
  "toc": {
   "base_numbering": 1,
   "nav_menu": {},
   "number_sections": true,
   "sideBar": true,
   "skip_h1_title": false,
   "title_cell": "Table of Contents",
   "title_sidebar": "Contents",
   "toc_cell": false,
   "toc_position": {},
   "toc_section_display": true,
   "toc_window_display": false
  }
 },
 "nbformat": 4,
 "nbformat_minor": 2
}
